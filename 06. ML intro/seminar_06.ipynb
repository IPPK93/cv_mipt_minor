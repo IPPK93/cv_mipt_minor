{
 "cells": [
  {
   "cell_type": "markdown",
   "metadata": {
    "id": "OVkl09sgHGj4"
   },
   "source": [
    "# Семинар 6 - Метрики, kNN\n"
   ]
  },
  {
   "cell_type": "markdown",
   "metadata": {
    "id": "GRm09mhjnFCF"
   },
   "source": [
    "# Метрики"
   ]
  },
  {
   "cell_type": "code",
   "execution_count": null,
   "metadata": {
    "ExecuteTime": {
     "end_time": "2020-11-07T16:05:23.725945Z",
     "start_time": "2020-11-07T16:05:23.720983Z"
    },
    "id": "2bW8uOhM-mX8"
   },
   "outputs": [],
   "source": [
    "from sklearn.datasets import fetch_olivetti_faces\n",
    "from matplotlib import pyplot as plt\n",
    "import numpy as np\n",
    "import pandas as pd"
   ]
  },
  {
   "cell_type": "code",
   "execution_count": null,
   "metadata": {
    "ExecuteTime": {
     "end_time": "2020-11-07T16:05:23.955779Z",
     "start_time": "2020-11-07T16:05:23.903815Z"
    },
    "colab": {
     "base_uri": "https://localhost:8080/"
    },
    "executionInfo": {
     "elapsed": 1234,
     "status": "ok",
     "timestamp": 1604690942169,
     "user": {
      "displayName": "Даниил Русланович Махоткин",
      "photoUrl": "",
      "userId": "18336248573599285046"
     },
     "user_tz": -180
    },
    "id": "p98V3Y4a-mYG",
    "outputId": "a3f012bc-7f32-4a85-bc98-c66f89b1a6ef"
   },
   "outputs": [],
   "source": [
    "data = fetch_olivetti_faces()\n",
    "data.target"
   ]
  },
  {
   "cell_type": "code",
   "execution_count": null,
   "metadata": {
    "ExecuteTime": {
     "end_time": "2020-11-07T16:05:24.087783Z",
     "start_time": "2020-11-07T16:05:24.084814Z"
    },
    "id": "Mg6229Fd-mYK"
   },
   "outputs": [],
   "source": [
    "X, y = data.data, data.target"
   ]
  },
  {
   "cell_type": "code",
   "execution_count": null,
   "metadata": {
    "ExecuteTime": {
     "end_time": "2020-11-07T16:05:24.223785Z",
     "start_time": "2020-11-07T16:05:24.217780Z"
    },
    "colab": {
     "base_uri": "https://localhost:8080/"
    },
    "executionInfo": {
     "elapsed": 872,
     "status": "ok",
     "timestamp": 1604690962424,
     "user": {
      "displayName": "Даниил Русланович Махоткин",
      "photoUrl": "",
      "userId": "18336248573599285046"
     },
     "user_tz": -180
    },
    "id": "7csv-XQl9yKX",
    "outputId": "eb73e4d6-9cfa-4d88-fa3b-74f7dfa14e81"
   },
   "outputs": [],
   "source": [
    "indx_0 = np.where(y == 0)[0][:5]\n",
    "indx_0"
   ]
  },
  {
   "cell_type": "code",
   "execution_count": null,
   "metadata": {
    "ExecuteTime": {
     "end_time": "2020-11-07T16:05:24.355071Z",
     "start_time": "2020-11-07T16:05:24.349071Z"
    },
    "colab": {
     "base_uri": "https://localhost:8080/"
    },
    "executionInfo": {
     "elapsed": 672,
     "status": "ok",
     "timestamp": 1604690962425,
     "user": {
      "displayName": "Даниил Русланович Махоткин",
      "photoUrl": "",
      "userId": "18336248573599285046"
     },
     "user_tz": -180
    },
    "id": "sAey7Ckh9Mzs",
    "outputId": "5112b4bc-af20-4351-ce0f-a1009eaa3344"
   },
   "outputs": [],
   "source": [
    "indx_1 = np.where(y == 1)[0]\n",
    "indx_1"
   ]
  },
  {
   "cell_type": "code",
   "execution_count": null,
   "metadata": {
    "ExecuteTime": {
     "end_time": "2020-11-07T16:05:24.549069Z",
     "start_time": "2020-11-07T16:05:24.544071Z"
    },
    "id": "5iP6edIc-YS4"
   },
   "outputs": [],
   "source": [
    "X = X[np.concatenate((indx_1, indx_0))]\n",
    "y = y[np.concatenate((indx_1, indx_0))]"
   ]
  },
  {
   "cell_type": "code",
   "execution_count": null,
   "metadata": {
    "ExecuteTime": {
     "end_time": "2020-11-07T16:05:24.679075Z",
     "start_time": "2020-11-07T16:05:24.675068Z"
    },
    "colab": {
     "base_uri": "https://localhost:8080/"
    },
    "executionInfo": {
     "elapsed": 692,
     "status": "ok",
     "timestamp": 1604690963958,
     "user": {
      "displayName": "Даниил Русланович Махоткин",
      "photoUrl": "",
      "userId": "18336248573599285046"
     },
     "user_tz": -180
    },
    "id": "0BdPTt7O-mYV",
    "outputId": "92999800-342c-4bc1-d129-32ef14e2434f"
   },
   "outputs": [],
   "source": [
    "print('В датасете {} объектов и {} признака'.format(X.shape[0], X.shape[1]))"
   ]
  },
  {
   "cell_type": "markdown",
   "metadata": {
    "id": "deN04NfU-mYX"
   },
   "source": [
    "Разделим выборку на две части: обучающую и тестовую"
   ]
  },
  {
   "cell_type": "code",
   "execution_count": null,
   "metadata": {
    "ExecuteTime": {
     "end_time": "2020-11-07T16:05:24.988070Z",
     "start_time": "2020-11-07T16:05:24.985068Z"
    },
    "id": "Jv6UTpdq-mYX"
   },
   "outputs": [],
   "source": [
    "from sklearn.model_selection import train_test_split"
   ]
  },
  {
   "cell_type": "code",
   "execution_count": null,
   "metadata": {
    "ExecuteTime": {
     "end_time": "2020-11-07T16:05:25.181073Z",
     "start_time": "2020-11-07T16:05:25.171104Z"
    },
    "colab": {
     "base_uri": "https://localhost:8080/"
    },
    "executionInfo": {
     "elapsed": 1016,
     "status": "ok",
     "timestamp": 1604690964902,
     "user": {
      "displayName": "Даниил Русланович Махоткин",
      "photoUrl": "",
      "userId": "18336248573599285046"
     },
     "user_tz": -180
    },
    "id": "vxpfIMM8-mYZ",
    "outputId": "aa69fa44-a74a-4cf5-b1eb-98faca99bc15"
   },
   "outputs": [],
   "source": [
    "x_train, x_test, y_train, y_test = train_test_split(X, y, \n",
    "                                                    train_size=0.5,\n",
    "                                                    test_size=0.5, \n",
    "                                                    shuffle=True,\n",
    "                                                   random_state=42)\n",
    "x_train.shape, x_test.shape, y_train.shape, y_test.shape  "
   ]
  },
  {
   "cell_type": "code",
   "execution_count": null,
   "metadata": {
    "ExecuteTime": {
     "end_time": "2020-11-07T16:05:25.517777Z",
     "start_time": "2020-11-07T16:05:25.514616Z"
    },
    "id": "BWUaha-v-mYb"
   },
   "outputs": [],
   "source": [
    "from sklearn.neighbors import KNeighborsClassifier"
   ]
  },
  {
   "cell_type": "markdown",
   "metadata": {
    "id": "LbcCQ17P-mYd"
   },
   "source": [
    "Зададим классификатор:"
   ]
  },
  {
   "cell_type": "code",
   "execution_count": null,
   "metadata": {
    "ExecuteTime": {
     "end_time": "2020-11-07T16:05:26.032482Z",
     "start_time": "2020-11-07T16:05:26.016809Z"
    },
    "id": "VKP5xz6T-mYe"
   },
   "outputs": [],
   "source": [
    "knn = KNeighborsClassifier(n_neighbors=5)"
   ]
  },
  {
   "cell_type": "code",
   "execution_count": null,
   "metadata": {
    "ExecuteTime": {
     "end_time": "2020-11-07T16:05:26.222485Z",
     "start_time": "2020-11-07T16:05:26.205485Z"
    },
    "id": "CSUHlEcK-mYg"
   },
   "outputs": [],
   "source": [
    "knn.fit(x_train, y_train)\n",
    "knn_predictons = knn.predict(x_test)"
   ]
  },
  {
   "cell_type": "code",
   "execution_count": null,
   "metadata": {
    "ExecuteTime": {
     "end_time": "2020-11-07T16:05:26.389485Z",
     "start_time": "2020-11-07T16:05:26.376483Z"
    },
    "id": "XduZFJOG-mYi"
   },
   "outputs": [],
   "source": [
    "preds = pd.DataFrame(y_test, columns=['True'])\n",
    "preds['knn_pred'] = knn_predictons"
   ]
  },
  {
   "cell_type": "code",
   "execution_count": null,
   "metadata": {
    "ExecuteTime": {
     "end_time": "2020-11-07T16:05:26.550485Z",
     "start_time": "2020-11-07T16:05:26.538482Z"
    },
    "colab": {
     "base_uri": "https://localhost:8080/",
     "height": 297
    },
    "executionInfo": {
     "elapsed": 1540,
     "status": "ok",
     "timestamp": 1604690970673,
     "user": {
      "displayName": "Даниил Русланович Махоткин",
      "photoUrl": "",
      "userId": "18336248573599285046"
     },
     "user_tz": -180
    },
    "id": "O3VBNPCH-mYk",
    "outputId": "29d169b0-776a-4798-879a-63437cf4d863"
   },
   "outputs": [],
   "source": [
    "preds"
   ]
  },
  {
   "cell_type": "markdown",
   "metadata": {
    "id": "dWLkn7Eq-s0U"
   },
   "source": [
    "## Accuracy"
   ]
  },
  {
   "cell_type": "code",
   "execution_count": null,
   "metadata": {
    "ExecuteTime": {
     "end_time": "2020-11-07T16:05:26.937814Z",
     "start_time": "2020-11-07T16:05:26.921568Z"
    },
    "colab": {
     "base_uri": "https://localhost:8080/"
    },
    "executionInfo": {
     "elapsed": 1023,
     "status": "ok",
     "timestamp": 1604690976356,
     "user": {
      "displayName": "Даниил Русланович Махоткин",
      "photoUrl": "",
      "userId": "18336248573599285046"
     },
     "user_tz": -180
    },
    "id": "HdpZzIMt-mYm",
    "outputId": "410601c1-38e5-4392-ccb3-90e7fe2641eb"
   },
   "outputs": [],
   "source": [
    "# Посмотрим долю правильных ответов:\n",
    "def accuracy(true, predictions):\n",
    "    acc = sum(predictions==true)/len(predictions)\n",
    "    return acc\n",
    "accuracy(y_test, knn_predictons)"
   ]
  },
  {
   "cell_type": "code",
   "execution_count": null,
   "metadata": {
    "ExecuteTime": {
     "end_time": "2020-11-07T16:05:27.149940Z",
     "start_time": "2020-11-07T16:05:27.145935Z"
    },
    "colab": {
     "base_uri": "https://localhost:8080/"
    },
    "executionInfo": {
     "elapsed": 837,
     "status": "ok",
     "timestamp": 1604690976356,
     "user": {
      "displayName": "Даниил Русланович Махоткин",
      "photoUrl": "",
      "userId": "18336248573599285046"
     },
     "user_tz": -180
    },
    "id": "YYupicLm-mYn",
    "outputId": "3866891b-40b4-4b35-d6fc-71107c9775bb"
   },
   "outputs": [],
   "source": [
    "#Тоже самое средставми sklearn:\n",
    "from sklearn.metrics import accuracy_score\n",
    "accuracy_score(y_test, knn_predictons)"
   ]
  },
  {
   "cell_type": "markdown",
   "metadata": {
    "id": "e8AOxz18-y3Z"
   },
   "source": [
    "## Precision"
   ]
  },
  {
   "cell_type": "markdown",
   "metadata": {
    "id": "JqawSQGfA3Xl"
   },
   "source": [
    "Посмотрим точность ответов (precision) без учета различных классов (всего TP/(всего TP + всего FP)):"
   ]
  },
  {
   "cell_type": "code",
   "execution_count": null,
   "metadata": {
    "ExecuteTime": {
     "end_time": "2020-11-07T16:05:42.170616Z",
     "start_time": "2020-11-07T16:05:42.162577Z"
    },
    "colab": {
     "base_uri": "https://localhost:8080/"
    },
    "executionInfo": {
     "elapsed": 701,
     "status": "ok",
     "timestamp": 1604690978062,
     "user": {
      "displayName": "Даниил Русланович Махоткин",
      "photoUrl": "",
      "userId": "18336248573599285046"
     },
     "user_tz": -180
    },
    "id": "llcN4SwJA3Xl",
    "outputId": "badbcce5-d833-4f6e-f9f9-a649e32f2c2a"
   },
   "outputs": [],
   "source": [
    "def precision(true, predictions):\n",
    "    # Ваш код здесь:\n",
    "    TP = 0\n",
    "    FP = 0\n",
    "    for i in range(len(true)):\n",
    "        if true[i] == 1 and predictions[i] == 1:\n",
    "            TP = TP + 1\n",
    "        elif predictions [i] != true[i] and true[i] == 0:\n",
    "            FP = FP + 1\n",
    "    prec = TP/(TP+FP+np.finfo(float).eps)\n",
    "    return prec\n",
    "precision(y_test, knn_predictons)"
   ]
  },
  {
   "cell_type": "markdown",
   "metadata": {
    "id": "q0Omc5yNA3Xn"
   },
   "source": [
    "Тоже самое средставми sklearn:"
   ]
  },
  {
   "cell_type": "code",
   "execution_count": null,
   "metadata": {
    "ExecuteTime": {
     "end_time": "2020-11-07T16:05:42.777913Z",
     "start_time": "2020-11-07T16:05:42.770873Z"
    },
    "colab": {
     "base_uri": "https://localhost:8080/"
    },
    "executionInfo": {
     "elapsed": 988,
     "status": "ok",
     "timestamp": 1604691020085,
     "user": {
      "displayName": "Даниил Русланович Махоткин",
      "photoUrl": "",
      "userId": "18336248573599285046"
     },
     "user_tz": -180
    },
    "id": "nXx0-R1YA3Xo",
    "outputId": "94ffb548-74bf-4378-8833-0cb54f5d687b"
   },
   "outputs": [],
   "source": [
    "from sklearn.metrics import precision_score\n",
    "precision_score(y_test, knn_predictons)"
   ]
  },
  {
   "cell_type": "markdown",
   "metadata": {
    "id": "8Cx9ehnZ-3HA"
   },
   "source": [
    "## Recall"
   ]
  },
  {
   "cell_type": "markdown",
   "metadata": {
    "id": "XJEIfKsCA3Xt"
   },
   "source": [
    "Посмотрим полноту ответов (recall) "
   ]
  },
  {
   "cell_type": "code",
   "execution_count": null,
   "metadata": {
    "ExecuteTime": {
     "end_time": "2020-11-07T16:05:30.650153Z",
     "start_time": "2020-11-07T16:05:30.644180Z"
    },
    "colab": {
     "base_uri": "https://localhost:8080/"
    },
    "executionInfo": {
     "elapsed": 605,
     "status": "ok",
     "timestamp": 1604690983819,
     "user": {
      "displayName": "Даниил Русланович Махоткин",
      "photoUrl": "",
      "userId": "18336248573599285046"
     },
     "user_tz": -180
    },
    "id": "eFwTKdSrA3Xu",
    "outputId": "c3425d30-8cf8-411a-8fcf-713f0fbeea4e"
   },
   "outputs": [],
   "source": [
    "def recall(true, predictions):\n",
    "    # Ваш код здесь:  \n",
    "    TP = 0\n",
    "    FP = 0\n",
    "    for i in range(len(true)):\n",
    "        if true[i] == 1 and predictions[i] == 1:\n",
    "            TP = TP + 1\n",
    "        elif predictions [i] == 0 and true[i] == 1:\n",
    "            FP = FP + 1\n",
    "    rec = TP/(TP+FP+np.finfo(float).eps)\n",
    "    return rec\n",
    "recall(y_test, knn_predictons)"
   ]
  },
  {
   "cell_type": "markdown",
   "metadata": {
    "id": "LLATItdjA3Xw"
   },
   "source": [
    "Тоже самое средставми sklearn:"
   ]
  },
  {
   "cell_type": "code",
   "execution_count": null,
   "metadata": {
    "ExecuteTime": {
     "end_time": "2020-11-07T16:05:31.208267Z",
     "start_time": "2020-11-07T16:05:31.202182Z"
    },
    "colab": {
     "base_uri": "https://localhost:8080/"
    },
    "executionInfo": {
     "elapsed": 963,
     "status": "ok",
     "timestamp": 1604691014234,
     "user": {
      "displayName": "Даниил Русланович Махоткин",
      "photoUrl": "",
      "userId": "18336248573599285046"
     },
     "user_tz": -180
    },
    "id": "M6ctcWBkA3Xw",
    "outputId": "457b7859-5fe0-426b-eb6b-01ce8766c4d1"
   },
   "outputs": [],
   "source": [
    "from sklearn.metrics import recall_score\n",
    "recall_score(y_test, knn_predictons)"
   ]
  },
  {
   "cell_type": "markdown",
   "metadata": {
    "id": "PdbxK_gk-51O"
   },
   "source": [
    "## F1_score"
   ]
  },
  {
   "cell_type": "markdown",
   "metadata": {
    "id": "W5ubxAAZA3Xy"
   },
   "source": [
    "Посмотрим точность ответов (precision) без учета различных классов (всего TP/(всего TP + всего FP)):"
   ]
  },
  {
   "cell_type": "code",
   "execution_count": null,
   "metadata": {
    "ExecuteTime": {
     "end_time": "2020-11-07T16:05:32.121405Z",
     "start_time": "2020-11-07T16:05:32.115407Z"
    },
    "colab": {
     "base_uri": "https://localhost:8080/"
    },
    "executionInfo": {
     "elapsed": 555,
     "status": "ok",
     "timestamp": 1604690989765,
     "user": {
      "displayName": "Даниил Русланович Махоткин",
      "photoUrl": "",
      "userId": "18336248573599285046"
     },
     "user_tz": -180
    },
    "id": "y9f0bIA6A3Xy",
    "outputId": "881bf1c6-01fa-4787-ef4c-ef438b9ff078"
   },
   "outputs": [],
   "source": [
    "def F1_score(true, predictions):\n",
    "    # Ваш код здесь: \n",
    "       \n",
    "    f1 = 2*(recall(true, predictions)*precision(true, predictions))/(recall(true, predictions)+precision(true, predictions))\n",
    "    return f1\n",
    "F1_score(y_test, knn_predictons)"
   ]
  },
  {
   "cell_type": "markdown",
   "metadata": {
    "id": "HWnBqOJbA3X0"
   },
   "source": [
    "Тоже самое средставми sklearn:"
   ]
  },
  {
   "cell_type": "code",
   "execution_count": null,
   "metadata": {
    "ExecuteTime": {
     "end_time": "2020-11-07T09:01:57.304687Z",
     "start_time": "2020-11-07T09:01:57.298644Z"
    },
    "colab": {
     "base_uri": "https://localhost:8080/"
    },
    "executionInfo": {
     "elapsed": 892,
     "status": "ok",
     "timestamp": 1604691006903,
     "user": {
      "displayName": "Даниил Русланович Махоткин",
      "photoUrl": "",
      "userId": "18336248573599285046"
     },
     "user_tz": -180
    },
    "id": "uY1ree5aA3X0",
    "outputId": "f17247cd-c0f6-4395-c3a7-8e9e6611f00a"
   },
   "outputs": [],
   "source": [
    "from sklearn.metrics import f1_score\n",
    "f1_score(y_test, knn_predictons)"
   ]
  },
  {
   "cell_type": "markdown",
   "metadata": {
    "id": "VjmzJpCrA3X2"
   },
   "source": [
    "## ROC curve:"
   ]
  },
  {
   "cell_type": "markdown",
   "metadata": {
    "id": "oyd-IMihA3X3"
   },
   "source": [
    "Для этого, в отличае от других метрий, нам понадобятся не предсказания модели, а вероятности принадлежности классам, которые модель выдает."
   ]
  },
  {
   "cell_type": "code",
   "execution_count": null,
   "metadata": {
    "ExecuteTime": {
     "end_time": "2020-11-07T09:01:57.972723Z",
     "start_time": "2020-11-07T09:01:57.915495Z"
    },
    "colab": {
     "base_uri": "https://localhost:8080/"
    },
    "executionInfo": {
     "elapsed": 970,
     "status": "ok",
     "timestamp": 1604691152468,
     "user": {
      "displayName": "Даниил Русланович Махоткин",
      "photoUrl": "",
      "userId": "18336248573599285046"
     },
     "user_tz": -180
    },
    "id": "Mb4mchwUA3X3",
    "outputId": "f530a013-757d-4f7c-cde3-7d5bf170c73f"
   },
   "outputs": [],
   "source": [
    "probs = knn.predict_proba(x_test)\n",
    "probs"
   ]
  },
  {
   "cell_type": "markdown",
   "metadata": {
    "id": "5UgvQFtsA3X5"
   },
   "source": [
    "Также необходибо бинаризовать метки классов для подсчета TPR и FPR (только для мультикласса)"
   ]
  },
  {
   "cell_type": "markdown",
   "metadata": {
    "id": "E1BMDFPWA3X9"
   },
   "source": [
    "Считаем TPR и FPR"
   ]
  },
  {
   "cell_type": "code",
   "execution_count": null,
   "metadata": {
    "ExecuteTime": {
     "end_time": "2020-11-07T09:01:58.851331Z",
     "start_time": "2020-11-07T09:01:58.792263Z"
    },
    "id": "gJIhd9k1A3X9"
   },
   "outputs": [],
   "source": [
    "from sklearn.metrics import roc_curve, auc\n",
    "\n",
    "fpr = dict()\n",
    "tpr = dict()\n",
    "roc_auc = dict()\n",
    "fpr, tpr, threshold = roc_curve(y_test, probs[:,1])\n",
    "roc_auc = auc(fpr, tpr)"
   ]
  },
  {
   "cell_type": "code",
   "execution_count": null,
   "metadata": {
    "ExecuteTime": {
     "end_time": "2020-11-07T09:01:59.103326Z",
     "start_time": "2020-11-07T09:01:59.097326Z"
    },
    "colab": {
     "base_uri": "https://localhost:8080/"
    },
    "executionInfo": {
     "elapsed": 660,
     "status": "ok",
     "timestamp": 1604692163961,
     "user": {
      "displayName": "Даниил Русланович Махоткин",
      "photoUrl": "",
      "userId": "18336248573599285046"
     },
     "user_tz": -180
    },
    "id": "4dOfmGnYA3X_",
    "outputId": "db526547-ee43-4e0c-e8ce-71120d79df0e"
   },
   "outputs": [],
   "source": [
    "roc_auc"
   ]
  },
  {
   "cell_type": "code",
   "execution_count": null,
   "metadata": {
    "ExecuteTime": {
     "end_time": "2020-11-07T09:01:59.462315Z",
     "start_time": "2020-11-07T09:01:59.456707Z"
    },
    "id": "0u2385zHA3YD"
   },
   "outputs": [],
   "source": [
    "def plot_roc_curve():\n",
    "    plt.figure()\n",
    "    lw = 2\n",
    "    plt.plot(fpr, tpr, color='darkorange',\n",
    "             lw=lw, label='ROC curve (area = %0.2f)' % roc_auc)\n",
    "    plt.plot([0, 1], [0, 1], color='navy', lw=lw, linestyle='--')\n",
    "    plt.xlim([0.0, 1.0])\n",
    "    plt.ylim([0.0, 1.05])\n",
    "    plt.xlabel('False Positive Rate')\n",
    "    plt.ylabel('True Positive Rate')\n",
    "    plt.title('Receiver operating characteristic for class 1')\n",
    "    plt.legend(loc=\"lower right\")\n",
    "    plt.show()"
   ]
  },
  {
   "cell_type": "code",
   "execution_count": null,
   "metadata": {
    "ExecuteTime": {
     "end_time": "2020-11-07T09:02:00.117689Z",
     "start_time": "2020-11-07T09:01:59.914698Z"
    },
    "colab": {
     "base_uri": "https://localhost:8080/",
     "height": 295
    },
    "executionInfo": {
     "elapsed": 1282,
     "status": "ok",
     "timestamp": 1604692295568,
     "user": {
      "displayName": "Даниил Русланович Махоткин",
      "photoUrl": "",
      "userId": "18336248573599285046"
     },
     "user_tz": -180
    },
    "id": "JGgvhVdIA3YE",
    "outputId": "0b26b9ef-8a68-470f-c19b-cabc692113b1"
   },
   "outputs": [],
   "source": [
    "plot_roc_curve()"
   ]
  },
  {
   "cell_type": "markdown",
   "metadata": {
    "id": "4LOwpFFQHX58"
   },
   "source": [
    "Теперь постройте roc_curve для 0"
   ]
  },
  {
   "cell_type": "markdown",
   "metadata": {
    "id": "ObtsdJSkTXJj"
   },
   "source": [
    "# kNN - метод ближайших соседей"
   ]
  },
  {
   "cell_type": "code",
   "execution_count": null,
   "metadata": {
    "ExecuteTime": {
     "end_time": "2020-11-07T09:02:01.292748Z",
     "start_time": "2020-11-07T09:02:01.287685Z"
    },
    "id": "T1OigmyZA3W0"
   },
   "outputs": [],
   "source": [
    "from sklearn.datasets import load_digits"
   ]
  },
  {
   "cell_type": "markdown",
   "metadata": {
    "id": "XrHfx2WpA3W3"
   },
   "source": [
    "## Загрузим данные"
   ]
  },
  {
   "cell_type": "code",
   "execution_count": null,
   "metadata": {
    "ExecuteTime": {
     "end_time": "2020-11-07T09:02:02.378987Z",
     "start_time": "2020-11-07T09:02:02.156577Z"
    },
    "colab": {
     "base_uri": "https://localhost:8080/",
     "height": 799
    },
    "executionInfo": {
     "elapsed": 827,
     "status": "ok",
     "timestamp": 1600781733809,
     "user": {
      "displayName": "Даниил Русланович Махоткин",
      "photoUrl": "",
      "userId": "18336248573599285046"
     },
     "user_tz": -180
    },
    "id": "ZTbbEpwjA3W3",
    "outputId": "e6948a3d-76db-4ebb-efb6-35326d8ef749"
   },
   "outputs": [],
   "source": [
    "data = load_digits()\n",
    "print(data['DESCR'])"
   ]
  },
  {
   "cell_type": "code",
   "execution_count": null,
   "metadata": {
    "ExecuteTime": {
     "end_time": "2020-11-07T09:02:02.948266Z",
     "start_time": "2020-11-07T09:02:02.944226Z"
    },
    "id": "R1jpuSF7A3W6"
   },
   "outputs": [],
   "source": [
    "X, y = data.data, data.target"
   ]
  },
  {
   "cell_type": "code",
   "execution_count": null,
   "metadata": {
    "ExecuteTime": {
     "end_time": "2020-11-07T09:02:03.320643Z",
     "start_time": "2020-11-07T09:02:03.314647Z"
    },
    "colab": {
     "base_uri": "https://localhost:8080/",
     "height": 34
    },
    "executionInfo": {
     "elapsed": 619,
     "status": "ok",
     "timestamp": 1600781738907,
     "user": {
      "displayName": "Даниил Русланович Махоткин",
      "photoUrl": "",
      "userId": "18336248573599285046"
     },
     "user_tz": -180
    },
    "id": "q1QZBhfPA3W_",
    "outputId": "8d699b72-11f2-476f-9bf9-28337a34addf"
   },
   "outputs": [],
   "source": [
    "print('В датасете {} объектов и {} признака'.format(X.shape[0], X.shape[1]))"
   ]
  },
  {
   "cell_type": "markdown",
   "metadata": {
    "id": "O2W8MYQnA3XC"
   },
   "source": [
    "### Посмотрим на объекты:"
   ]
  },
  {
   "cell_type": "code",
   "execution_count": null,
   "metadata": {
    "ExecuteTime": {
     "end_time": "2020-11-07T09:02:04.215144Z",
     "start_time": "2020-11-07T09:02:04.076142Z"
    },
    "colab": {
     "base_uri": "https://localhost:8080/",
     "height": 421
    },
    "executionInfo": {
     "elapsed": 925,
     "status": "ok",
     "timestamp": 1600781743122,
     "user": {
      "displayName": "Даниил Русланович Махоткин",
      "photoUrl": "",
      "userId": "18336248573599285046"
     },
     "user_tz": -180
    },
    "id": "H_I5K7mbA3XC",
    "outputId": "fab2ec9d-cefe-4bfc-9d42-5548637bab73"
   },
   "outputs": [],
   "source": [
    "i = np.random.randint(0, X.shape[0])\n",
    "print('Class name: {}'.format(y[i]))\n",
    "print(X[i].reshape(8,8))\n",
    "\n",
    "X[i]\n",
    "plt.imshow(X[i].reshape(8,8), cmap='gray_r')\n",
    "plt.show()"
   ]
  },
  {
   "cell_type": "markdown",
   "metadata": {
    "id": "pbQmOAHrA3XF"
   },
   "source": [
    "Посмотрим на баланс классов:"
   ]
  },
  {
   "cell_type": "code",
   "execution_count": null,
   "metadata": {
    "ExecuteTime": {
     "end_time": "2020-11-07T09:02:05.003708Z",
     "start_time": "2020-11-07T09:02:04.998705Z"
    },
    "id": "5f9WvFM3A3XG"
   },
   "outputs": [],
   "source": [
    "counts = np.unique(y, return_counts=True)\n",
    "pd.DataFrame(counts[1], counts[0], columns=['counts']);\n",
    "# sns.barplot(counts[0], counts[1])\n",
    "# plt.show()"
   ]
  },
  {
   "cell_type": "code",
   "execution_count": null,
   "metadata": {
    "ExecuteTime": {
     "end_time": "2020-11-07T09:02:05.454197Z",
     "start_time": "2020-11-07T09:02:05.295855Z"
    },
    "colab": {
     "base_uri": "https://localhost:8080/",
     "height": 338
    },
    "executionInfo": {
     "elapsed": 858,
     "status": "ok",
     "timestamp": 1600781749188,
     "user": {
      "displayName": "Даниил Русланович Махоткин",
      "photoUrl": "",
      "userId": "18336248573599285046"
     },
     "user_tz": -180
    },
    "id": "Hr_lUgubA3XI",
    "outputId": "5ca42eed-1298-4d3f-8afc-42da4b0ed7e0"
   },
   "outputs": [],
   "source": [
    "fig = plt.figure()\n",
    "ax = fig.add_axes([0,0,1,1])\n",
    "ax.bar(counts[0], counts[1])\n",
    "plt.show()"
   ]
  },
  {
   "cell_type": "markdown",
   "metadata": {
    "id": "B0FWjkg0A3XK"
   },
   "source": [
    "Разделим выборку на две части: обучающую и тестовую"
   ]
  },
  {
   "cell_type": "code",
   "execution_count": null,
   "metadata": {
    "ExecuteTime": {
     "end_time": "2020-11-07T09:02:06.042098Z",
     "start_time": "2020-11-07T09:02:06.037034Z"
    },
    "id": "Jv-_k73lA3XK"
   },
   "outputs": [],
   "source": [
    "from sklearn.model_selection import train_test_split"
   ]
  },
  {
   "cell_type": "code",
   "execution_count": null,
   "metadata": {
    "ExecuteTime": {
     "end_time": "2020-11-07T09:02:06.253161Z",
     "start_time": "2020-11-07T09:02:06.245685Z"
    },
    "colab": {
     "base_uri": "https://localhost:8080/",
     "height": 34
    },
    "executionInfo": {
     "elapsed": 542,
     "status": "ok",
     "timestamp": 1600781754292,
     "user": {
      "displayName": "Даниил Русланович Махоткин",
      "photoUrl": "",
      "userId": "18336248573599285046"
     },
     "user_tz": -180
    },
    "id": "LPnAuqZAA3XM",
    "outputId": "9736280b-e0d2-43f3-f329-20e1cda8d074"
   },
   "outputs": [],
   "source": [
    "X_train, X_test, y_train, y_test = train_test_split(X, y, \n",
    "                                                    train_size=0.5,\n",
    "                                                    test_size=0.5, \n",
    "                                                    shuffle=True,\n",
    "                                                   random_state=18)\n",
    "X_train.shape, X_test.shape, y_train.shape, y_test.shape  "
   ]
  },
  {
   "cell_type": "markdown",
   "metadata": {
    "id": "vPY3a6wOA3XP"
   },
   "source": [
    "## Метод ближайших соседей"
   ]
  },
  {
   "cell_type": "code",
   "execution_count": null,
   "metadata": {
    "ExecuteTime": {
     "end_time": "2020-11-07T09:02:07.288845Z",
     "start_time": "2020-11-07T09:02:07.284293Z"
    },
    "id": "_CMsIzw7A3XP"
   },
   "outputs": [],
   "source": [
    "from sklearn.neighbors import KNeighborsClassifier"
   ]
  },
  {
   "cell_type": "markdown",
   "metadata": {
    "id": "COoieQ2MA3XR"
   },
   "source": [
    "Зададим классификатор:"
   ]
  },
  {
   "cell_type": "code",
   "execution_count": null,
   "metadata": {
    "ExecuteTime": {
     "end_time": "2020-11-07T09:02:08.055850Z",
     "start_time": "2020-11-07T09:02:08.050795Z"
    },
    "id": "XOx-hiNVA3XS"
   },
   "outputs": [],
   "source": [
    "knn = KNeighborsClassifier(n_neighbors=5)"
   ]
  },
  {
   "cell_type": "code",
   "execution_count": null,
   "metadata": {
    "ExecuteTime": {
     "end_time": "2020-11-07T09:02:08.392240Z",
     "start_time": "2020-11-07T09:02:08.236653Z"
    },
    "id": "j5ec_5nEA3XT"
   },
   "outputs": [],
   "source": [
    "knn.fit(X_train, y_train)\n",
    "knn_predictons = knn.predict(X_test)"
   ]
  },
  {
   "cell_type": "code",
   "execution_count": null,
   "metadata": {
    "ExecuteTime": {
     "end_time": "2020-11-07T09:02:08.516870Z",
     "start_time": "2020-11-07T09:02:08.512249Z"
    },
    "id": "Hu04KvGEA3XW"
   },
   "outputs": [],
   "source": [
    "preds = pd.DataFrame(y_test, columns=['True'])\n",
    "preds['knn_pred'] = knn_predictons"
   ]
  },
  {
   "cell_type": "code",
   "execution_count": null,
   "metadata": {
    "ExecuteTime": {
     "end_time": "2020-11-07T09:02:08.779932Z",
     "start_time": "2020-11-07T09:02:08.718957Z"
    },
    "colab": {
     "base_uri": "https://localhost:8080/",
     "height": 204
    },
    "executionInfo": {
     "elapsed": 1123,
     "status": "ok",
     "timestamp": 1600781763889,
     "user": {
      "displayName": "Даниил Русланович Махоткин",
      "photoUrl": "",
      "userId": "18336248573599285046"
     },
     "user_tz": -180
    },
    "id": "VHEz4InXA3XY",
    "outputId": "2cc72a48-79d8-4d41-acdf-937660810c8d"
   },
   "outputs": [],
   "source": [
    "preds.head()"
   ]
  },
  {
   "cell_type": "code",
   "execution_count": null,
   "metadata": {
    "ExecuteTime": {
     "end_time": "2020-11-07T09:02:10.007282Z",
     "start_time": "2020-11-07T09:02:10.002281Z"
    },
    "colab": {
     "base_uri": "https://localhost:8080/",
     "height": 34
    },
    "executionInfo": {
     "elapsed": 805,
     "status": "ok",
     "timestamp": 1600781764188,
     "user": {
      "displayName": "Даниил Русланович Махоткин",
      "photoUrl": "",
      "userId": "18336248573599285046"
     },
     "user_tz": -180
    },
    "id": "BUj2vteGA3Xa",
    "outputId": "9f6e98b1-8a98-45df-e5e2-c0c28e55c8cf"
   },
   "outputs": [],
   "source": [
    "# Посмотрим долю правильных ответов:\n",
    "def accuracy(true, predictions):\n",
    "    acc = predictions[true == predictions].shape[0]/true.shape[0]\n",
    "    return acc\n",
    "accuracy(y_test, knn_predictons)"
   ]
  },
  {
   "cell_type": "code",
   "execution_count": null,
   "metadata": {
    "ExecuteTime": {
     "end_time": "2020-11-07T09:02:10.192050Z",
     "start_time": "2020-11-07T09:02:10.186683Z"
    },
    "colab": {
     "base_uri": "https://localhost:8080/",
     "height": 34
    },
    "executionInfo": {
     "elapsed": 833,
     "status": "ok",
     "timestamp": 1600781769059,
     "user": {
      "displayName": "Даниил Русланович Махоткин",
      "photoUrl": "",
      "userId": "18336248573599285046"
     },
     "user_tz": -180
    },
    "id": "07d2-N1BA3Xc",
    "outputId": "520340dd-6fe0-41fa-ae75-ece9b32e0f2f"
   },
   "outputs": [],
   "source": [
    "#Тоже самое средставми sklearn:\n",
    "from sklearn.metrics import accuracy_score\n",
    "accuracy_score(y_test, knn_predictons)"
   ]
  },
  {
   "cell_type": "markdown",
   "metadata": {
    "id": "HD1SeAA7A3Xe"
   },
   "source": [
    "Постройте график зависимости доли верных ответов на тесте от количества соседей (от 1 до 100):"
   ]
  },
  {
   "cell_type": "code",
   "execution_count": null,
   "metadata": {
    "ExecuteTime": {
     "end_time": "2020-11-07T09:02:11.335815Z",
     "start_time": "2020-11-07T09:02:11.332763Z"
    },
    "id": "WPPMFMwFA3Xe"
   },
   "outputs": [],
   "source": [
    "# Ваш код здесь: "
   ]
  },
  {
   "cell_type": "markdown",
   "metadata": {
    "id": "Cerpg8c_A3YN"
   },
   "source": [
    "## Поиск оптимальных параметров по сетке"
   ]
  },
  {
   "cell_type": "code",
   "execution_count": null,
   "metadata": {
    "ExecuteTime": {
     "end_time": "2020-11-07T09:02:12.789184Z",
     "start_time": "2020-11-07T09:02:12.786187Z"
    },
    "id": "fIfuyzGVA3YN"
   },
   "outputs": [],
   "source": [
    "from sklearn.model_selection import GridSearchCV"
   ]
  },
  {
   "cell_type": "code",
   "execution_count": null,
   "metadata": {
    "ExecuteTime": {
     "end_time": "2020-11-07T09:02:13.120846Z",
     "start_time": "2020-11-07T09:02:13.117842Z"
    },
    "id": "XazV6tE_A3YQ"
   },
   "outputs": [],
   "source": [
    "n = np.linspace(1, 21, 21, dtype=int)"
   ]
  },
  {
   "cell_type": "code",
   "execution_count": null,
   "metadata": {
    "ExecuteTime": {
     "end_time": "2020-11-07T09:02:18.543141Z",
     "start_time": "2020-11-07T09:02:13.600460Z"
    },
    "colab": {
     "base_uri": "https://localhost:8080/",
     "height": 221
    },
    "executionInfo": {
     "elapsed": 4850,
     "status": "ok",
     "timestamp": 1600781981477,
     "user": {
      "displayName": "Даниил Русланович Махоткин",
      "photoUrl": "",
      "userId": "18336248573599285046"
     },
     "user_tz": -180
    },
    "id": "-2RjFLRxA3YS",
    "outputId": "d5961599-68cc-4a63-8abc-18b8dc5d2731",
    "scrolled": true
   },
   "outputs": [],
   "source": [
    "kNN_cv = KNeighborsClassifier(n_neighbors=5)\n",
    "params = { \n",
    "    'metric':['minkowski', 'manhattan'],\n",
    "    'n_neighbors': n,\n",
    "         }\n",
    "\n",
    "gcv = GridSearchCV(kNN_cv, param_grid=params, cv=5, scoring='accuracy')\n",
    "gcv.fit(X_train, y_train)"
   ]
  },
  {
   "cell_type": "code",
   "execution_count": null,
   "metadata": {
    "ExecuteTime": {
     "end_time": "2020-11-07T09:02:23.718263Z",
     "start_time": "2020-11-07T09:02:23.706439Z"
    },
    "id": "inWaX4gPA3YU"
   },
   "outputs": [],
   "source": [
    "def print_cv_results(a, len_gs, params, param_r, param_sep): \n",
    "    d = len(params['param_grid'][param_sep])\n",
    "    ar=np.array(a).reshape(d,len_gs).T\n",
    "    df=pd.DataFrame(ar)\n",
    "\n",
    "    pen_par=params['param_grid'][param_sep]\n",
    "    c_par=params['param_grid'][param_r]\n",
    "    if type(c_par) != list: \n",
    "        c_par = c_par.tolist()\n",
    "    columns_mapper=dict(zip(range(0, len(pen_par)),pen_par))\n",
    "    row_mapper=dict(zip(range(0, len(c_par)), c_par))\n",
    "\n",
    "    df.rename(columns=columns_mapper, index=row_mapper, inplace=True)\n",
    "\n",
    "    plot = df.plot(title='Mean accuracy rating',grid=True)\n",
    "    plot.set_xlabel(param_r, fontsize=13)\n",
    "    plot.set_ylabel('acc', rotation=0, fontsize=13, labelpad=15)"
   ]
  },
  {
   "cell_type": "code",
   "execution_count": null,
   "metadata": {
    "ExecuteTime": {
     "end_time": "2020-11-07T09:02:25.003066Z",
     "start_time": "2020-11-07T09:02:24.995030Z"
    },
    "colab": {
     "base_uri": "https://localhost:8080/",
     "height": 408
    },
    "executionInfo": {
     "elapsed": 511,
     "status": "ok",
     "timestamp": 1600781983583,
     "user": {
      "displayName": "Даниил Русланович Махоткин",
      "photoUrl": "",
      "userId": "18336248573599285046"
     },
     "user_tz": -180
    },
    "id": "VU1wrde9A3YV",
    "outputId": "d9b94dfa-c375-438b-99a0-bc99aae45f4f"
   },
   "outputs": [],
   "source": [
    "gcv.get_params()"
   ]
  },
  {
   "cell_type": "code",
   "execution_count": null,
   "metadata": {
    "ExecuteTime": {
     "end_time": "2020-11-07T09:02:26.763019Z",
     "start_time": "2020-11-07T09:02:26.532337Z"
    },
    "colab": {
     "base_uri": "https://localhost:8080/",
     "height": 318
    },
    "executionInfo": {
     "elapsed": 976,
     "status": "ok",
     "timestamp": 1600781985404,
     "user": {
      "displayName": "Даниил Русланович Махоткин",
      "photoUrl": "",
      "userId": "18336248573599285046"
     },
     "user_tz": -180
    },
    "id": "7T9nrU3kA3YX",
    "outputId": "1c90fe00-5f73-4d46-ad7e-5f735ad7c112"
   },
   "outputs": [],
   "source": [
    "print_cv_results(gcv.cv_results_['mean_test_score'],\n",
    "                 21, gcv.get_params(), 'n_neighbors','metric')\n",
    "gcv.best_params_"
   ]
  },
  {
   "cell_type": "code",
   "execution_count": null,
   "metadata": {
    "ExecuteTime": {
     "end_time": "2020-11-07T09:02:27.697027Z",
     "start_time": "2020-11-07T09:02:27.692989Z"
    },
    "colab": {
     "base_uri": "https://localhost:8080/",
     "height": 51
    },
    "executionInfo": {
     "elapsed": 833,
     "status": "ok",
     "timestamp": 1600781987279,
     "user": {
      "displayName": "Даниил Русланович Махоткин",
      "photoUrl": "",
      "userId": "18336248573599285046"
     },
     "user_tz": -180
    },
    "id": "2W7YawmTA3YY",
    "outputId": "4aa68f20-a1ae-496e-9bea-f48a5af54f16"
   },
   "outputs": [],
   "source": [
    "print('Лучший скор %.4f' % gcv.best_score_)\n",
    "print('при метрике %(metric)s и %(n_neighbors)s соседей' % gcv.best_params_)"
   ]
  },
  {
   "cell_type": "markdown",
   "metadata": {
    "id": "HAN_NbOJA3Ya"
   },
   "source": [
    "### Что получится на тесте?"
   ]
  },
  {
   "cell_type": "code",
   "execution_count": null,
   "metadata": {
    "ExecuteTime": {
     "end_time": "2020-11-07T09:02:29.137616Z",
     "start_time": "2020-11-07T09:02:29.049828Z"
    },
    "colab": {
     "base_uri": "https://localhost:8080/",
     "height": 34
    },
    "executionInfo": {
     "elapsed": 1055,
     "status": "ok",
     "timestamp": 1600781992335,
     "user": {
      "displayName": "Даниил Русланович Махоткин",
      "photoUrl": "",
      "userId": "18336248573599285046"
     },
     "user_tz": -180
    },
    "id": "c8Uc888lA3Yb",
    "outputId": "b10185ed-5341-46a3-ce7e-fd3b85cf5fd8"
   },
   "outputs": [],
   "source": [
    "accuracy_score(y_test, gcv.predict(X_test))"
   ]
  },
  {
   "cell_type": "code",
   "execution_count": null,
   "metadata": {
    "ExecuteTime": {
     "end_time": "2020-11-07T09:02:29.953094Z",
     "start_time": "2020-11-07T09:02:29.856536Z"
    },
    "id": "ln6pagOYA3Yd"
   },
   "outputs": [],
   "source": [
    "gcv_preds = pd.DataFrame(gcv.predict(X_test), columns=['kNN'])"
   ]
  },
  {
   "cell_type": "code",
   "execution_count": null,
   "metadata": {
    "ExecuteTime": {
     "end_time": "2020-11-07T09:02:32.079940Z",
     "start_time": "2020-11-07T09:02:32.074939Z"
    },
    "id": "UcmYKdkCA3Ye"
   },
   "outputs": [],
   "source": [
    "gcv_preds['True'] = y_test"
   ]
  },
  {
   "cell_type": "code",
   "execution_count": null,
   "metadata": {
    "ExecuteTime": {
     "end_time": "2020-11-07T09:02:32.307225Z",
     "start_time": "2020-11-07T09:02:32.298698Z"
    },
    "colab": {
     "base_uri": "https://localhost:8080/",
     "height": 419
    },
    "executionInfo": {
     "elapsed": 561,
     "status": "ok",
     "timestamp": 1600781993591,
     "user": {
      "displayName": "Даниил Русланович Махоткин",
      "photoUrl": "",
      "userId": "18336248573599285046"
     },
     "user_tz": -180
    },
    "id": "OhDjXEP6A3Yi",
    "outputId": "5738edeb-9071-4f7e-af13-6ed714ff2d16"
   },
   "outputs": [],
   "source": [
    "gcv_preds"
   ]
  },
  {
   "cell_type": "markdown",
   "metadata": {
    "id": "-O0B1AZ5A3Yk"
   },
   "source": [
    "Посмотрим на те цифры, которые \"путает\" наш классификатор"
   ]
  },
  {
   "cell_type": "code",
   "execution_count": null,
   "metadata": {
    "ExecuteTime": {
     "end_time": "2020-11-07T09:02:33.621511Z",
     "start_time": "2020-11-07T09:02:33.557516Z"
    },
    "colab": {
     "base_uri": "https://localhost:8080/",
     "height": 483
    },
    "executionInfo": {
     "elapsed": 962,
     "status": "ok",
     "timestamp": 1600781998125,
     "user": {
      "displayName": "Даниил Русланович Махоткин",
      "photoUrl": "",
      "userId": "18336248573599285046"
     },
     "user_tz": -180
    },
    "id": "x2WZ4dBSA3Yk",
    "outputId": "faf336ff-10e6-432a-a2b1-d6439033153d"
   },
   "outputs": [],
   "source": [
    "gcv_preds[gcv_preds['True'] != gcv_preds['kNN']]"
   ]
  },
  {
   "cell_type": "markdown",
   "metadata": {
    "id": "DB3rpCgNA3Yp"
   },
   "source": [
    "## Нормализация"
   ]
  },
  {
   "cell_type": "markdown",
   "metadata": {
    "id": "so_A_3W6A3Yp"
   },
   "source": [
    "Так как мы работаем с пикселями изображения - все признаки имеют \"одинаковую\" значимость.\n",
    "\n",
    "P.S. Проводить нормализацию можно как для всего изображения (матрицы), так и для каждого пикселя отдельно."
   ]
  },
  {
   "cell_type": "markdown",
   "metadata": {
    "id": "cIbWYGZgA3Yp"
   },
   "source": [
    "Проведите нормировку признаков, вычислите точность, сделайте выводы"
   ]
  },
  {
   "cell_type": "code",
   "execution_count": null,
   "metadata": {
    "id": "tOfZJtgMA3Yq"
   },
   "outputs": [],
   "source": [
    "# Ваш код здесь: "
   ]
  },
  {
   "cell_type": "markdown",
   "metadata": {
    "id": "DdFaMSuiA3Yr"
   },
   "source": [
    "Проведите стандартизацию признаков, вычислите точность, сделайте выводы"
   ]
  },
  {
   "cell_type": "code",
   "execution_count": null,
   "metadata": {
    "id": "kaBgFXqQA3Ys"
   },
   "outputs": [],
   "source": [
    "# Ваш код здесь: "
   ]
  }
 ],
 "metadata": {
  "colab": {
   "name": "Seminar_1_knn_solved.ipynb",
   "provenance": [
    {
     "file_id": "1_i1OZMEVS-zZJR73YUy27RRtuMd7y98e",
     "timestamp": 1604689460421
    },
    {
     "file_id": "1baHqVMrvF6w30LAa5mUZGpRvcfg6Z4ZX",
     "timestamp": 1600782777758
    }
   ],
   "toc_visible": true
  },
  "hide_input": false,
  "kernelspec": {
   "display_name": "Python 3",
   "language": "python",
   "name": "python3"
  },
  "language_info": {
   "codemirror_mode": {
    "name": "ipython",
    "version": 3
   },
   "file_extension": ".py",
   "mimetype": "text/x-python",
   "name": "python",
   "nbconvert_exporter": "python",
   "pygments_lexer": "ipython3",
   "version": "3.7.7"
  },
  "toc": {
   "base_numbering": 1,
   "nav_menu": {},
   "number_sections": true,
   "sideBar": true,
   "skip_h1_title": false,
   "title_cell": "Table of Contents",
   "title_sidebar": "Contents",
   "toc_cell": false,
   "toc_position": {},
   "toc_section_display": true,
   "toc_window_display": true
  },
  "varInspector": {
   "cols": {
    "lenName": 16,
    "lenType": 16,
    "lenVar": 40
   },
   "kernels_config": {
    "python": {
     "delete_cmd_postfix": "",
     "delete_cmd_prefix": "del ",
     "library": "var_list.py",
     "varRefreshCmd": "print(var_dic_list())"
    },
    "r": {
     "delete_cmd_postfix": ") ",
     "delete_cmd_prefix": "rm(",
     "library": "var_list.r",
     "varRefreshCmd": "cat(var_dic_list()) "
    }
   },
   "types_to_exclude": [
    "module",
    "function",
    "builtin_function_or_method",
    "instance",
    "_Feature"
   ],
   "window_display": false
  }
 },
 "nbformat": 4,
 "nbformat_minor": 1
}
