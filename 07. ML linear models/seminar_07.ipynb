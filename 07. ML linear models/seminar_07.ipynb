{
 "cells": [
  {
   "cell_type": "markdown",
   "metadata": {
    "id": "9qzz8VxBmcCP"
   },
   "source": [
    "# Семинар 2 – Линейные модели"
   ]
  },
  {
   "cell_type": "code",
   "execution_count": 1,
   "metadata": {
    "ExecuteTime": {
     "end_time": "2020-11-21T10:47:28.807442Z",
     "start_time": "2020-11-21T10:47:26.640276Z"
    },
    "id": "OHIDwk_omcCQ"
   },
   "outputs": [],
   "source": [
    "import pandas as pd\n",
    "import numpy as np\n",
    "%matplotlib inline\n",
    "import matplotlib.pyplot as plt\n",
    "import scipy.stats as st\n",
    "import warnings\n",
    "warnings.simplefilter('ignore')"
   ]
  },
  {
   "cell_type": "markdown",
   "metadata": {
    "id": "nL29T5jNQ90q"
   },
   "source": [
    "# Линейные модели в задаче регрессии"
   ]
  },
  {
   "cell_type": "markdown",
   "metadata": {
    "id": "LIZnmyhM622x"
   },
   "source": [
    "# 1. Постановка задачи"
   ]
  },
  {
   "cell_type": "markdown",
   "metadata": {
    "id": "n0s4kCH5Jfga"
   },
   "source": [
    "![picture](https://drive.google.com/uc?export=view&id=1pNRo9-N2Udjv3AK0uTJ0qCWkk9Ko_9TA)"
   ]
  },
  {
   "cell_type": "markdown",
   "metadata": {
    "id": "2nIJ87Z3K9GI"
   },
   "source": [
    "Где линейная модель - это: $$ \\hat{y} = f(x) = \\theta_0*1 + \\theta_1*x_1 + ... + \\theta_n*x_n = \\theta^T*X$$"
   ]
  },
  {
   "cell_type": "markdown",
   "metadata": {
    "id": "hf_S9ZcpmcCV"
   },
   "source": [
    "Сгенерируем исскуственные данные, на основе функции:\n",
    "$$f(x) = 4x+5$$"
   ]
  },
  {
   "cell_type": "code",
   "execution_count": 2,
   "metadata": {
    "ExecuteTime": {
     "end_time": "2020-11-21T10:47:34.731457Z",
     "start_time": "2020-11-21T10:47:34.727453Z"
    },
    "id": "acxSQ_I3mcCV"
   },
   "outputs": [],
   "source": [
    "def lin_function(x):\n",
    "    return 4*x+5\n",
    "\n",
    "x_true = np.array([-2,2])\n",
    "y_true = lin_function(x_true)\n"
   ]
  },
  {
   "cell_type": "code",
   "execution_count": 3,
   "metadata": {
    "ExecuteTime": {
     "end_time": "2020-11-21T10:47:35.261921Z",
     "start_time": "2020-11-21T10:47:35.070878Z"
    },
    "colab": {
     "base_uri": "https://localhost:8080/",
     "height": 265
    },
    "executionInfo": {
     "elapsed": 853,
     "status": "ok",
     "timestamp": 1601993098287,
     "user": {
      "displayName": "Даниил Русланович Махоткин",
      "photoUrl": "",
      "userId": "18336248573599285046"
     },
     "user_tz": -180
    },
    "id": "_hON0uHxmcCY",
    "outputId": "76857a8b-6c52-4d50-9e49-e807a3cadca6"
   },
   "outputs": [
    {
     "data": {
      "image/png": "[encoded data removed]",
      "text/plain": [
       "<Figure size 432x288 with 1 Axes>"
      ]
     },
     "metadata": {
      "needs_background": "light"
     },
     "output_type": "display_data"
    }
   ],
   "source": [
    "plt.plot(x_true, y_true, linewidth=1)\n",
    "plt.show()"
   ]
  },
  {
   "cell_type": "code",
   "execution_count": 4,
   "metadata": {
    "ExecuteTime": {
     "end_time": "2020-11-21T10:47:35.444157Z",
     "start_time": "2020-11-21T10:47:35.438321Z"
    },
    "id": "cyJnzIL-mcCc"
   },
   "outputs": [],
   "source": [
    "n = 100\n",
    "x = np.random.rand(n,1)*4-2\n",
    "e = np.random.rand(n,1)*4-2\n",
    "y = lin_function(x) + e\n"
   ]
  },
  {
   "cell_type": "code",
   "execution_count": 5,
   "metadata": {
    "ExecuteTime": {
     "end_time": "2020-11-21T10:47:36.083929Z",
     "start_time": "2020-11-21T10:47:35.956995Z"
    },
    "colab": {
     "base_uri": "https://localhost:8080/",
     "height": 265
    },
    "executionInfo": {
     "elapsed": 1159,
     "status": "ok",
     "timestamp": 1601993149820,
     "user": {
      "displayName": "Даниил Русланович Махоткин",
      "photoUrl": "",
      "userId": "18336248573599285046"
     },
     "user_tz": -180
    },
    "id": "kyuP8fdjmcCh",
    "outputId": "6174d540-349f-40ae-b511-d6d5bec1da5c"
   },
   "outputs": [
    {
     "data": {
      "image/png": "[encoded data removed]",
      "text/plain": [
       "<Figure size 432x288 with 1 Axes>"
      ]
     },
     "metadata": {
      "needs_background": "light"
     },
     "output_type": "display_data"
    }
   ],
   "source": [
    "plt.scatter(x, y, color='g')\n",
    "plt.plot(x_true, y_true, linewidth=1)\n",
    "plt.show()"
   ]
  },
  {
   "cell_type": "markdown",
   "metadata": {
    "id": "B0RU2rp7660u"
   },
   "source": [
    "# 2. Метрики"
   ]
  },
  {
   "cell_type": "markdown",
   "metadata": {
    "id": "0AyXrS8NuU7s"
   },
   "source": [
    "Mean Absoulte Error:\n",
    "$$MAE = \\frac1N \\sum_{i = 1}^N|f(x_i) - y_i| = \\frac1N \\sum_{i = 1}^N|\\hat y_i - y_i| = \\frac1N || \\hat Y - Y||_1$$\n",
    "\n",
    "Mean Sqared Error:\n",
    "$$MSE = \\frac1N \\sum_{i = 1}^N(f(x_i) - y_i)^2 = \\frac1N \\sum_{i = 1}^N(\\hat y_i - y_i)^2 = \\frac1N ||\\hat Y - Y||_2$$\n"
   ]
  },
  {
   "cell_type": "markdown",
   "metadata": {
    "id": "diTgxQhTk7p5"
   },
   "source": [
    "Почему работаем с MSE?"
   ]
  },
  {
   "cell_type": "markdown",
   "metadata": {
    "id": "jlZoGsHumcCj"
   },
   "source": [
    "# 3. Аналитический метод поиска минимума по MCE\n",
    "\n",
    "$$MSE -> min $$\n",
    "\n",
    "$$MSE = \\frac1N \\sum_{i = 1}^N(\\hat y_i - y_i)^2 = \\frac1N \\sum_{i = 1}^N(\\theta_i * x_i - y_i)^2 = \\frac1N ||X \\theta - Y||_2 = \\frac1N (X\\theta - Y)^T*(X\\theta - Y) $$\n",
    "\n",
    "\n",
    "\n",
    "$$ \\frac{d}{d\\theta}[\\frac1N (X\\theta - Y)^T*(X\\theta - Y)] =  \\frac1N \\frac{d}{d\\theta}[Y^TY - 2Y^TX\\theta+\\theta^TX^TX\\theta]  $$\n",
    "\n",
    "$$\\hat \\theta = \\bigl(X^T \\cdot X  \\bigr)^{-1} \\cdot X^T \\cdot y $$"
   ]
  },
  {
   "cell_type": "code",
   "execution_count": 6,
   "metadata": {
    "ExecuteTime": {
     "end_time": "2020-11-21T10:47:38.243926Z",
     "start_time": "2020-11-21T10:47:38.239380Z"
    },
    "id": "DpPN_x3LmcCk"
   },
   "outputs": [],
   "source": [
    "x_matrix = np.c_[np.ones((n,1)),x]"
   ]
  },
  {
   "cell_type": "code",
   "execution_count": 7,
   "metadata": {
    "ExecuteTime": {
     "end_time": "2020-11-21T10:47:38.509489Z",
     "start_time": "2020-11-21T10:47:38.500489Z"
    },
    "colab": {
     "base_uri": "https://localhost:8080/",
     "height": 51
    },
    "executionInfo": {
     "elapsed": 632,
     "status": "ok",
     "timestamp": 1601993150952,
     "user": {
      "displayName": "Даниил Русланович Махоткин",
      "photoUrl": "",
      "userId": "18336248573599285046"
     },
     "user_tz": -180
    },
    "id": "Xyl_DlNxmcCm",
    "outputId": "ab36096a-8fc5-44af-dfb8-aab0b46772a0"
   },
   "outputs": [
    {
     "name": "stdout",
     "output_type": "stream",
     "text": [
      "Wall time: 4 ms\n"
     ]
    }
   ],
   "source": [
    "%%time\n",
    "thetha_matrix = np.linalg.inv(x_matrix.T.dot(x_matrix)).dot(x_matrix.T).dot(y)  #"
   ]
  },
  {
   "cell_type": "markdown",
   "metadata": {
    "id": "nXOGL_565vuT"
   },
   "source": [
    "Обратите внимание на время работы"
   ]
  },
  {
   "cell_type": "code",
   "execution_count": 8,
   "metadata": {
    "ExecuteTime": {
     "end_time": "2020-11-21T10:47:39.073388Z",
     "start_time": "2020-11-21T10:47:39.067703Z"
    },
    "colab": {
     "base_uri": "https://localhost:8080/",
     "height": 34
    },
    "executionInfo": {
     "elapsed": 898,
     "status": "ok",
     "timestamp": 1601993140880,
     "user": {
      "displayName": "Даниил Русланович Махоткин",
      "photoUrl": "",
      "userId": "18336248573599285046"
     },
     "user_tz": -180
    },
    "id": "_KdJY9u3mcCp",
    "outputId": "c7cb257d-bc69-43f6-e17e-f97f8bd856fd"
   },
   "outputs": [
    {
     "data": {
      "text/plain": [
       "[5.179746761178215, 4.090354937032455]"
      ]
     },
     "execution_count": 8,
     "metadata": {},
     "output_type": "execute_result"
    }
   ],
   "source": [
    "thetha_matrix.T[0].tolist()"
   ]
  },
  {
   "cell_type": "code",
   "execution_count": 9,
   "metadata": {
    "ExecuteTime": {
     "end_time": "2020-11-21T10:47:39.392292Z",
     "start_time": "2020-11-21T10:47:39.388288Z"
    },
    "colab": {
     "base_uri": "https://localhost:8080/",
     "height": 51
    },
    "executionInfo": {
     "elapsed": 1006,
     "status": "ok",
     "timestamp": 1601922539002,
     "user": {
      "displayName": "Даниил Русланович Махоткин",
      "photoUrl": "",
      "userId": "18336248573599285046"
     },
     "user_tz": -180
    },
    "id": "ttSXH751mcCs",
    "outputId": "7ff90f58-074c-4b08-c6af-d86489d171fe"
   },
   "outputs": [
    {
     "name": "stdout",
     "output_type": "stream",
     "text": [
      "Свободный член: 5.179747\n",
      "Коэфициент: 4.090355\n"
     ]
    }
   ],
   "source": [
    "print(\"Свободный член: {[0][0]:.7}\".format(thetha_matrix.T))\n",
    "print(\"Коэфициент: {[0][1]:.7}\".format(thetha_matrix.T))"
   ]
  },
  {
   "cell_type": "code",
   "execution_count": 10,
   "metadata": {
    "ExecuteTime": {
     "end_time": "2020-11-21T10:47:39.922591Z",
     "start_time": "2020-11-21T10:47:39.588276Z"
    },
    "id": "TnTy0lWrmcCu"
   },
   "outputs": [],
   "source": [
    "from sklearn.metrics import mean_squared_error\n",
    "from sklearn.linear_model import LinearRegression"
   ]
  },
  {
   "cell_type": "markdown",
   "metadata": {
    "id": "y9ZdhyYWBoHn"
   },
   "source": [
    "параметры"
   ]
  },
  {
   "cell_type": "code",
   "execution_count": 11,
   "metadata": {
    "ExecuteTime": {
     "end_time": "2020-11-21T10:47:40.148132Z",
     "start_time": "2020-11-21T10:47:40.131886Z"
    },
    "colab": {
     "base_uri": "https://localhost:8080/",
     "height": 51
    },
    "executionInfo": {
     "elapsed": 390,
     "status": "ok",
     "timestamp": 1601993158942,
     "user": {
      "displayName": "Даниил Русланович Махоткин",
      "photoUrl": "",
      "userId": "18336248573599285046"
     },
     "user_tz": -180
    },
    "id": "NXCSCMOkmcCw",
    "outputId": "9419e3e1-e436-42c3-881b-b6b0ed90f271"
   },
   "outputs": [
    {
     "name": "stdout",
     "output_type": "stream",
     "text": [
      "Wall time: 9.04 ms\n"
     ]
    },
    {
     "data": {
      "text/plain": [
       "LinearRegression(copy_X=True, fit_intercept=True, n_jobs=None, normalize=False)"
      ]
     },
     "execution_count": 11,
     "metadata": {},
     "output_type": "execute_result"
    }
   ],
   "source": [
    "%%time\n",
    "lr = LinearRegression()\n",
    "lr.fit(x,y);"
   ]
  },
  {
   "cell_type": "code",
   "execution_count": 12,
   "metadata": {
    "ExecuteTime": {
     "end_time": "2020-11-21T10:47:40.296977Z",
     "start_time": "2020-11-21T10:47:40.293967Z"
    },
    "colab": {
     "base_uri": "https://localhost:8080/",
     "height": 51
    },
    "executionInfo": {
     "elapsed": 1085,
     "status": "ok",
     "timestamp": 1601922660642,
     "user": {
      "displayName": "Даниил Русланович Махоткин",
      "photoUrl": "",
      "userId": "18336248573599285046"
     },
     "user_tz": -180
    },
    "id": "p0NPdTrqmcCz",
    "outputId": "d05a5cb2-065b-4f5b-847b-65ed8bb87669"
   },
   "outputs": [
    {
     "name": "stdout",
     "output_type": "stream",
     "text": [
      "Свободный член: 5.179747\n",
      "Коэфициент: 4.090355\n"
     ]
    }
   ],
   "source": [
    "print(\"Свободный член: {:.7}\".format(lr.intercept_[0]))\n",
    "print(\"Коэфициент: {:.7}\".format(lr.coef_[0][0]))"
   ]
  },
  {
   "cell_type": "code",
   "execution_count": 13,
   "metadata": {
    "ExecuteTime": {
     "end_time": "2020-11-21T10:47:40.577801Z",
     "start_time": "2020-11-21T10:47:40.452615Z"
    },
    "colab": {
     "base_uri": "https://localhost:8080/",
     "height": 267
    },
    "executionInfo": {
     "elapsed": 1068,
     "status": "ok",
     "timestamp": 1601922661112,
     "user": {
      "displayName": "Даниил Русланович Махоткин",
      "photoUrl": "",
      "userId": "18336248573599285046"
     },
     "user_tz": -180
    },
    "id": "w1jyDLd8mcC1",
    "outputId": "25b45242-81a8-45b5-e58c-bd59497433dd"
   },
   "outputs": [
    {
     "data": {
      "image/png": "[encoded data removed]",
      "text/plain": [
       "<Figure size 432x288 with 1 Axes>"
      ]
     },
     "metadata": {
      "needs_background": "light"
     },
     "output_type": "display_data"
    }
   ],
   "source": [
    "plt.scatter(x, y, color='g')\n",
    "plt.scatter(x, lr.predict(x), color='r')\n",
    "plt.plot(x_true, y_true, linewidth=1)\n",
    "plt.show()"
   ]
  },
  {
   "cell_type": "markdown",
   "metadata": {
    "id": "8FnBwOCBmcC4"
   },
   "source": [
    " # 4. Градиентный спуск\n",
    "\n",
    "$$\\theta^{(t+1)} = \\theta^{(t)} - lr\\cdot \\nabla MSE(\\theta^{(t)}),$$\n",
    "где $lr$ — длина шага градиентного спуска (learning rate).\n",
    "\n",
    "$$\\nabla MSE(\\theta)= \\frac{2}{N} X^T \\cdot \\bigl(X \\cdot \\theta - Y \\bigr) $$"
   ]
  },
  {
   "cell_type": "code",
   "execution_count": 14,
   "metadata": {
    "ExecuteTime": {
     "end_time": "2020-11-21T10:47:41.020276Z",
     "start_time": "2020-11-21T10:47:40.878243Z"
    },
    "colab": {
     "base_uri": "https://localhost:8080/",
     "height": 333
    },
    "executionInfo": {
     "elapsed": 1162,
     "status": "ok",
     "timestamp": 1601849422691,
     "user": {
      "displayName": "Даниил Русланович Махоткин",
      "photoUrl": "",
      "userId": "18336248573599285046"
     },
     "user_tz": -180
    },
    "id": "Tc-2s7b1mcC5",
    "outputId": "d34c2b5a-e604-47e8-82c2-b48c4c39151d"
   },
   "outputs": [
    {
     "data": {
      "image/png": "[encoded data removed]",
      "text/plain": [
       "<Figure size 432x288 with 1 Axes>"
      ]
     },
     "metadata": {
      "needs_background": "light"
     },
     "output_type": "display_data"
    },
    {
     "name": "stdout",
     "output_type": "stream",
     "text": [
      "[[5.17974676]\n",
      " [4.09035494]]\n",
      "Wall time: 136 ms\n"
     ]
    }
   ],
   "source": [
    "%%time\n",
    "lr = 0.1  # learning rate\n",
    "n_iterations = 100\n",
    "\n",
    "\n",
    "theta = np.random.randn(2,1)  # random initialization\n",
    "\n",
    "plt.scatter(x, y, color='g')\n",
    "\n",
    "for iteration in range(n_iterations):\n",
    "    if iteration < 10:\n",
    "        plt.plot(x_true, x_true*theta[1]+theta[0], linewidth=1, color='r')\n",
    "    gradients = 2/n * x_matrix.T.dot(x_matrix.dot(theta) - y) #\n",
    "    theta = theta - lr * gradients  #\n",
    "\n",
    "plt.plot(x_true, y_true, linewidth=1)\n",
    "plt.show()\n",
    "\n",
    "print(theta)"
   ]
  },
  {
   "cell_type": "markdown",
   "metadata": {
    "id": "MYNgYyaAmcDG"
   },
   "source": [
    "# 5. Cтохастический градиентный спуск  "
   ]
  },
  {
   "cell_type": "markdown",
   "metadata": {
    "id": "JQkKpCQpFH5t"
   },
   "source": [
    "у среднего случайных подвыборок то же что и у всех данных"
   ]
  },
  {
   "cell_type": "code",
   "execution_count": 15,
   "metadata": {
    "ExecuteTime": {
     "end_time": "2020-11-21T10:47:41.711646Z",
     "start_time": "2020-11-21T10:47:41.608436Z"
    },
    "colab": {
     "base_uri": "https://localhost:8080/",
     "height": 51
    },
    "executionInfo": {
     "elapsed": 863,
     "status": "ok",
     "timestamp": 1601923686419,
     "user": {
      "displayName": "Даниил Русланович Махоткин",
      "photoUrl": "",
      "userId": "18336248573599285046"
     },
     "user_tz": -180
    },
    "id": "jxVa6nfSmcDG",
    "outputId": "0780bbfa-78a7-49b8-91f0-a2eb349d7c91"
   },
   "outputs": [
    {
     "name": "stdout",
     "output_type": "stream",
     "text": [
      "[[4.91056788]\n",
      " [4.80322399]]\n"
     ]
    }
   ],
   "source": [
    "n_epochs = 100\n",
    "\n",
    "def learning_schedule(t):\n",
    "    return t0 / (t + t1)\n",
    "\n",
    "t0, t1 = 5, 100  # learning schedule hyperparameters\n",
    "\n",
    "\n",
    "theta = np.random.randn(2,1)  # random initialization\n",
    "\n",
    "for epoch in range(n_epochs):\n",
    "    for i in range(n):\n",
    "        random_index = np.random.randint(n)\n",
    "        xi = x_matrix[random_index:random_index+1]\n",
    "        yi = y[random_index:random_index+1]\n",
    "        gradients = 2 * xi.T.dot(xi.dot(theta) - yi)\n",
    "        eta = learning_schedule(epoch * n + i)\n",
    "        theta = theta - lr * gradients\n",
    "print(theta)"
   ]
  },
  {
   "cell_type": "markdown",
   "metadata": {
    "id": "2bitNLOsPF9f"
   },
   "source": [
    "# 6. Пакетный градиентный спуск  "
   ]
  },
  {
   "cell_type": "code",
   "execution_count": 16,
   "metadata": {
    "ExecuteTime": {
     "end_time": "2020-11-21T10:47:42.231346Z",
     "start_time": "2020-11-21T10:47:42.131324Z"
    },
    "colab": {
     "base_uri": "https://localhost:8080/",
     "height": 51
    },
    "executionInfo": {
     "elapsed": 843,
     "status": "ok",
     "timestamp": 1601923729988,
     "user": {
      "displayName": "Даниил Русланович Махоткин",
      "photoUrl": "",
      "userId": "18336248573599285046"
     },
     "user_tz": -180
    },
    "id": "kW5gIJ5-GBwM",
    "outputId": "ac6bc9ae-777c-4bd8-90e1-08c1e791af0a"
   },
   "outputs": [
    {
     "name": "stdout",
     "output_type": "stream",
     "text": [
      "[[5.20947842]\n",
      " [4.07368391]]\n"
     ]
    }
   ],
   "source": [
    "n_epochs = 100\n",
    "\n",
    "def learning_schedule(t):\n",
    "    return t0 / (t + t1)\n",
    "\n",
    "t0, t1 = 5, 100  # learning schedule hyperparameters\n",
    "\n",
    "\n",
    "theta = np.random.randn(2,1)  # random initialization\n",
    "\n",
    "for epoch in range(n_epochs):\n",
    "    for i in range(n):\n",
    "        random_index = np.random.randint(n)\n",
    "        xi = x_matrix[random_index:random_index+10]\n",
    "        yi = y[random_index:random_index+10]\n",
    "        gradients = 2 * xi.T.dot(xi.dot(theta) - yi)\n",
    "        lr = learning_schedule(epoch * n + i)\n",
    "        theta = theta - lr * gradients\n",
    "print(theta)"
   ]
  },
  {
   "cell_type": "code",
   "execution_count": 17,
   "metadata": {
    "ExecuteTime": {
     "end_time": "2020-11-21T10:47:42.310470Z",
     "start_time": "2020-11-21T10:47:42.307465Z"
    },
    "id": "LESfaXdDmcDJ"
   },
   "outputs": [],
   "source": [
    "from sklearn.linear_model import SGDRegressor"
   ]
  },
  {
   "cell_type": "code",
   "execution_count": 18,
   "metadata": {
    "ExecuteTime": {
     "end_time": "2020-11-21T10:47:42.499620Z",
     "start_time": "2020-11-21T10:47:42.492636Z"
    },
    "colab": {
     "base_uri": "https://localhost:8080/",
     "height": 34
    },
    "executionInfo": {
     "elapsed": 1060,
     "status": "ok",
     "timestamp": 1601923970093,
     "user": {
      "displayName": "Даниил Русланович Махоткин",
      "photoUrl": "",
      "userId": "18336248573599285046"
     },
     "user_tz": -180
    },
    "id": "ZW7K_6sTmcDL",
    "outputId": "832b913f-0da9-4cb7-e2b6-99559bcc9321"
   },
   "outputs": [
    {
     "data": {
      "text/plain": [
       "(array([5.16890458]), array([4.0895984]))"
      ]
     },
     "execution_count": 18,
     "metadata": {},
     "output_type": "execute_result"
    }
   ],
   "source": [
    "sgd = SGDRegressor(tol=0.0001)\n",
    "#The stopping criterion. If it is not None, the iterations will stop when (loss > previous_loss - tol).\n",
    "sgd.fit(x,y)\n",
    "sgd.intercept_, sgd.coef_"
   ]
  },
  {
   "cell_type": "markdown",
   "metadata": {
    "id": "FF-VJaIhQ0Qr"
   },
   "source": [
    "# 7. Линейные модели в задачах классификации"
   ]
  },
  {
   "cell_type": "code",
   "execution_count": null,
   "metadata": {
    "id": "s_eo-AV9Q0Qt"
   },
   "outputs": [],
   "source": [
    "import pandas as pd\n",
    "import numpy as np\n",
    "%matplotlib inline\n",
    "import matplotlib.pyplot as plt\n",
    "import scipy.stats as st\n",
    "import warnings\n",
    "warnings.simplefilter('ignore')"
   ]
  },
  {
   "cell_type": "markdown",
   "metadata": {
    "id": "4WefZsAKQ0Qw"
   },
   "source": [
    "# 1. Постановка задачи"
   ]
  },
  {
   "cell_type": "markdown",
   "metadata": {
    "id": "Twv00bNTQ0Qw"
   },
   "source": [
    "![picture](https://drive.google.com/uc?export=view&id=1ZTii4cXzTi0YaHZRpQ7PM_OzacnwZ4n8)"
   ]
  },
  {
   "cell_type": "markdown",
   "metadata": {
    "id": "gHNvMUEiQ0Qx"
   },
   "source": [
    "Где линейная модель - это: $$ \\hat{y} = f(x) = \\theta_0*1 + \\theta_1*x_1 + ... + \\theta_n*x_n = \\theta^T*X$$"
   ]
  },
  {
   "cell_type": "markdown",
   "metadata": {
    "id": "zmFUt5cd-0QL"
   },
   "source": [
    "В качестве демонстрации будем использовальзовать датасет с изображениями цифр "
   ]
  },
  {
   "cell_type": "code",
   "execution_count": 19,
   "metadata": {
    "ExecuteTime": {
     "end_time": "2020-11-21T10:50:02.079580Z",
     "start_time": "2020-11-21T10:50:01.893514Z"
    },
    "id": "95hdY9WQ-0QL"
   },
   "outputs": [],
   "source": [
    "# Загрузим данные\n",
    "from sklearn.datasets import load_digits\n",
    "digits = load_digits()"
   ]
  },
  {
   "cell_type": "code",
   "execution_count": 20,
   "metadata": {
    "ExecuteTime": {
     "end_time": "2020-11-21T10:50:02.534473Z",
     "start_time": "2020-11-21T10:50:02.531523Z"
    },
    "id": "eUiVAqYs-0QM"
   },
   "outputs": [],
   "source": [
    "X = digits.data\n",
    "y = digits.target"
   ]
  },
  {
   "cell_type": "code",
   "execution_count": 21,
   "metadata": {
    "ExecuteTime": {
     "end_time": "2020-11-21T10:50:02.857382Z",
     "start_time": "2020-11-21T10:50:02.852381Z"
    },
    "colab": {
     "base_uri": "https://localhost:8080/",
     "height": 34
    },
    "executionInfo": {
     "elapsed": 456,
     "status": "ok",
     "timestamp": 1603198462394,
     "user": {
      "displayName": "Даниил Русланович Махоткин",
      "photoUrl": "",
      "userId": "18336248573599285046"
     },
     "user_tz": -180
    },
    "id": "JmQWWnf_-0QO",
    "outputId": "afa21cb4-c6f0-421e-ca8d-b94a7f5a04a5"
   },
   "outputs": [
    {
     "data": {
      "text/plain": [
       "((1797, 64), (1797,))"
      ]
     },
     "execution_count": 21,
     "metadata": {},
     "output_type": "execute_result"
    }
   ],
   "source": [
    "# Посмотрим на кол-во объектов \n",
    "X.shape, y.shape"
   ]
  },
  {
   "cell_type": "code",
   "execution_count": 22,
   "metadata": {
    "ExecuteTime": {
     "end_time": "2020-11-21T10:50:03.192849Z",
     "start_time": "2020-11-21T10:50:03.132306Z"
    },
    "colab": {
     "base_uri": "https://localhost:8080/",
     "height": 159
    },
    "executionInfo": {
     "elapsed": 505,
     "status": "ok",
     "timestamp": 1603198463009,
     "user": {
      "displayName": "Даниил Русланович Махоткин",
      "photoUrl": "",
      "userId": "18336248573599285046"
     },
     "user_tz": -180
    },
    "id": "YEITJX2H-0QP",
    "outputId": "d3b67e50-7ef0-4273-ac3a-031c7ec88b3c"
   },
   "outputs": [
    {
     "data": {
      "image/png": "[encoded data removed]",
      "text/plain": [
       "<Figure size 288x144 with 1 Axes>"
      ]
     },
     "metadata": {},
     "output_type": "display_data"
    }
   ],
   "source": [
    "# Давайте, посмотрим, как вылядит случайный объект нашей выборки\n",
    "target_image_id = np.random.randint(X.shape[0])\n",
    "\n",
    "plt.figure(figsize=(4,2))\n",
    "plt.imshow(X[target_image_id].reshape((8, 8)), cmap='binary')\n",
    "plt.xticks([])\n",
    "plt.yticks([])\n",
    "plt.title('True class: '+ str(y[target_image_id]))\n",
    "plt.show()"
   ]
  },
  {
   "cell_type": "code",
   "execution_count": 23,
   "metadata": {
    "ExecuteTime": {
     "end_time": "2020-11-21T10:50:03.733101Z",
     "start_time": "2020-11-21T10:50:03.660748Z"
    },
    "colab": {
     "base_uri": "https://localhost:8080/",
     "height": 359
    },
    "executionInfo": {
     "elapsed": 545,
     "status": "ok",
     "timestamp": 1603198464003,
     "user": {
      "displayName": "Даниил Русланович Махоткин",
      "photoUrl": "",
      "userId": "18336248573599285046"
     },
     "user_tz": -180
    },
    "id": "4P17AIR1-0QR",
    "outputId": "0eb167e1-072f-46e3-ed17-36417bf44643"
   },
   "outputs": [
    {
     "data": {
      "text/html": [
       "<div>\n",
       "<style scoped>\n",
       "    .dataframe tbody tr th:only-of-type {\n",
       "        vertical-align: middle;\n",
       "    }\n",
       "\n",
       "    .dataframe tbody tr th {\n",
       "        vertical-align: top;\n",
       "    }\n",
       "\n",
       "    .dataframe thead th {\n",
       "        text-align: right;\n",
       "    }\n",
       "</style>\n",
       "<table border=\"1\" class=\"dataframe\">\n",
       "  <thead>\n",
       "    <tr style=\"text-align: right;\">\n",
       "      <th></th>\n",
       "      <th>Counts</th>\n",
       "    </tr>\n",
       "  </thead>\n",
       "  <tbody>\n",
       "    <tr>\n",
       "      <th>0</th>\n",
       "      <td>178</td>\n",
       "    </tr>\n",
       "    <tr>\n",
       "      <th>1</th>\n",
       "      <td>182</td>\n",
       "    </tr>\n",
       "    <tr>\n",
       "      <th>2</th>\n",
       "      <td>177</td>\n",
       "    </tr>\n",
       "    <tr>\n",
       "      <th>3</th>\n",
       "      <td>183</td>\n",
       "    </tr>\n",
       "    <tr>\n",
       "      <th>4</th>\n",
       "      <td>181</td>\n",
       "    </tr>\n",
       "    <tr>\n",
       "      <th>5</th>\n",
       "      <td>182</td>\n",
       "    </tr>\n",
       "    <tr>\n",
       "      <th>6</th>\n",
       "      <td>181</td>\n",
       "    </tr>\n",
       "    <tr>\n",
       "      <th>7</th>\n",
       "      <td>179</td>\n",
       "    </tr>\n",
       "    <tr>\n",
       "      <th>8</th>\n",
       "      <td>174</td>\n",
       "    </tr>\n",
       "    <tr>\n",
       "      <th>9</th>\n",
       "      <td>180</td>\n",
       "    </tr>\n",
       "  </tbody>\n",
       "</table>\n",
       "</div>"
      ],
      "text/plain": [
       "   Counts\n",
       "0     178\n",
       "1     182\n",
       "2     177\n",
       "3     183\n",
       "4     181\n",
       "5     182\n",
       "6     181\n",
       "7     179\n",
       "8     174\n",
       "9     180"
      ]
     },
     "execution_count": 23,
     "metadata": {},
     "output_type": "execute_result"
    }
   ],
   "source": [
    "# Посмотрим на баланс классов \n",
    "class_counts = np.unique(y, return_counts=True)\n",
    "\n",
    "pd.DataFrame(class_counts[1], index=class_counts[0], columns=['Counts'])"
   ]
  },
  {
   "cell_type": "markdown",
   "metadata": {
    "id": "1YtXHAXT-0QS"
   },
   "source": [
    "## Логистическая регрессия для многоклассовой классификации"
   ]
  },
  {
   "cell_type": "code",
   "execution_count": 24,
   "metadata": {
    "ExecuteTime": {
     "end_time": "2020-11-21T10:50:04.569556Z",
     "start_time": "2020-11-21T10:50:04.566471Z"
    },
    "id": "jEiSkOH_-0QS"
   },
   "outputs": [],
   "source": [
    "# Загрузим нужные библиотеки\n",
    "from sklearn.linear_model import LogisticRegression\n",
    "from sklearn.model_selection import train_test_split\n",
    "from sklearn.metrics import accuracy_score\n",
    "from sklearn.model_selection import GridSearchCV"
   ]
  },
  {
   "cell_type": "code",
   "execution_count": 25,
   "metadata": {
    "ExecuteTime": {
     "end_time": "2020-11-21T10:50:05.053025Z",
     "start_time": "2020-11-21T10:50:05.044087Z"
    },
    "colab": {
     "base_uri": "https://localhost:8080/",
     "height": 34
    },
    "executionInfo": {
     "elapsed": 414,
     "status": "ok",
     "timestamp": 1603198467094,
     "user": {
      "displayName": "Даниил Русланович Махоткин",
      "photoUrl": "",
      "userId": "18336248573599285046"
     },
     "user_tz": -180
    },
    "id": "82axMzty-0QT",
    "outputId": "4bd28b52-79d9-427b-bc04-95c877a7c04d"
   },
   "outputs": [
    {
     "data": {
      "text/plain": [
       "((1437, 64), (360, 64), (1437,), (360,))"
      ]
     },
     "execution_count": 25,
     "metadata": {},
     "output_type": "execute_result"
    }
   ],
   "source": [
    "# Разделим выборку на тренировочную и тестовую \n",
    "x_train, x_test, y_train, y_test = train_test_split(X, y, \n",
    "                 train_size=0.8, test_size=0.2, shuffle=True,\n",
    "                 random_state=42)\n",
    "\n",
    "x_train.shape, x_test.shape, y_train.shape, y_test.shape"
   ]
  },
  {
   "cell_type": "markdown",
   "metadata": {
    "id": "YWfULoE0-0QV"
   },
   "source": [
    "*Логистическая регрессия позволяет решать задачу многоклассовой классификации. Класс ``LogisticRegression`` позвляет это делать двумя способами:* \n",
    "- Стандартный One vs Rest (т.е. каждый класс отделяется от всех других). Параметр `multi_class='ovr'`.*\n",
    "- Используя кросс-энтропию (оценивается сразу вектор вероятностей принадлежности классам). Параметр `multi_class='multinomial'`.*"
   ]
  },
  {
   "cell_type": "markdown",
   "metadata": {
    "id": "1KFaDE6W-0QV"
   },
   "source": [
    "One vs Rest\n",
    "\n",
    "\n",
    "Find 𝐾 − 1 classifiers 𝑓 , 𝑓 , ... , 𝑓 12 𝐾−1  \n",
    "- 𝑓 classifies1𝑣𝑠{2,3,...,𝐾} 1\n",
    "- 𝑓 classifies2𝑣𝑠{1,3,...,𝐾} 2\n",
    "- ...\n",
    "- 𝑓 classifies𝐾−1𝑣𝑠{1,2,...,𝐾−2}\n",
    "- 𝐾−1\n",
    "- Points not classified to classes {1,2, ... , 𝐾 − 1} are put to class 𝐾\n",
    "\n",
    "#### Cross-entropy\n",
    "\n",
    "\n",
    "В случае с бинарной классификацией функция потерь: \n",
    "$$ \\sum_{i=1}^l \\bigl( y_i \\log a_i - (1-y_i) \\log (1-a_i) \\bigr)  \\rightarrow min$$  \n",
    "$a_i$ – ответ (вероятность) алгоритма на i-м объекте на вопрос принадлежности к классу $y_i$\n",
    "\n",
    "Обобщается для многомерного случая:\n",
    "$$-\\frac{1}{q} \\sum_{i=1}^q \\sum_{j=1}^l y_{ij} \\log a_{ij} \\rightarrow min $$\n",
    "где  \n",
    "$q$ – число элементов в выборке,  \n",
    "$l$ – число классов,   \n",
    "$a_{ij}$ – ответ (вероятность) алгоритма на i-м объекте на вопрос принадлежности его к j-му классу\n",
    "\n",
    "__Проблемы:__ \n",
    "\n",
    "- Сложности в поиске глобального минимума, так как присутствуют Локальные минимумы и плато"
   ]
  },
  {
   "cell_type": "markdown",
   "metadata": {
    "id": "CNuGUp7V-0Qa"
   },
   "source": [
    "![picture](https://drive.google.com/uc?export=view&id=1XC0_ixqmQIL7o_sI5_b5nA3pF6ZlMhSq)\n",
    "\n",
    "Source: [User Guide](https://scikit-learn.org/stable/modules/linear_model.html#logistic-regression)"
   ]
  },
  {
   "cell_type": "code",
   "execution_count": 26,
   "metadata": {
    "ExecuteTime": {
     "end_time": "2020-11-21T10:50:06.690806Z",
     "start_time": "2020-11-21T10:50:06.540561Z"
    },
    "colab": {
     "base_uri": "https://localhost:8080/",
     "height": 51
    },
    "executionInfo": {
     "elapsed": 820,
     "status": "ok",
     "timestamp": 1603198495985,
     "user": {
      "displayName": "Даниил Русланович Махоткин",
      "photoUrl": "",
      "userId": "18336248573599285046"
     },
     "user_tz": -180
    },
    "id": "H17nn-nA-0QV",
    "outputId": "92d0171d-3b85-411a-dd95-76219d938907"
   },
   "outputs": [
    {
     "name": "stdout",
     "output_type": "stream",
     "text": [
      "Wall time: 145 ms\n"
     ]
    },
    {
     "data": {
      "text/plain": [
       "LogisticRegression(C=1.0, class_weight=None, dual=False, fit_intercept=True,\n",
       "                   intercept_scaling=1, l1_ratio=None, max_iter=100,\n",
       "                   multi_class='ovr', n_jobs=None, penalty='l2',\n",
       "                   random_state=None, solver='liblinear', tol=0.0001, verbose=0,\n",
       "                   warm_start=False)"
      ]
     },
     "execution_count": 26,
     "metadata": {},
     "output_type": "execute_result"
    }
   ],
   "source": [
    "%%time\n",
    "lr = LogisticRegression(solver='liblinear', multi_class='ovr')\n",
    "lr.fit(x_train,y_train)"
   ]
  },
  {
   "cell_type": "code",
   "execution_count": 27,
   "metadata": {
    "ExecuteTime": {
     "end_time": "2020-11-21T10:50:06.929519Z",
     "start_time": "2020-11-21T10:50:06.907794Z"
    },
    "colab": {
     "base_uri": "https://localhost:8080/",
     "height": 34
    },
    "executionInfo": {
     "elapsed": 522,
     "status": "ok",
     "timestamp": 1603198495987,
     "user": {
      "displayName": "Даниил Русланович Махоткин",
      "photoUrl": "",
      "userId": "18336248573599285046"
     },
     "user_tz": -180
    },
    "id": "LB5V1pFE-0QY",
    "outputId": "c0b5dedc-dcff-4df1-a07f-9d73359f9fee"
   },
   "outputs": [
    {
     "data": {
      "text/plain": [
       "0.9611111111111111"
      ]
     },
     "execution_count": 27,
     "metadata": {},
     "output_type": "execute_result"
    }
   ],
   "source": [
    "accuracy_score(lr.predict(x_test), y_test)"
   ]
  },
  {
   "cell_type": "markdown",
   "metadata": {
    "id": "yDtwZK3f-0Qb"
   },
   "source": [
    "## liblinear \n",
    "Используется обычный покоординантный спуск. \n",
    "Алгоритм:\n",
    "- Инициализацируем любыми значениями вектор весов\n",
    "    - Повторяем для каждого i из пространства признаков:\n",
    "        - фиксируем значения всех переменных кроме $x_i$\n",
    "        - проводим одномерную оптимизацию по переменной $x_i$, любым методом одномерной оптимизации\n",
    "        - если достигнули минимума по одной координате, то возвращаем текущее значение вектора весов\n",
    "\n",
    "Как это выглядит?\n",
    "![picture](https://drive.google.com/uc?export=view&id=1a-4ldccyGqStPGAu0jEZ4SdXcGqj3Dti)\n",
    "\n",
    "__Недостатки:__\n",
    "- Не параллелится \n",
    "- Может \"застрять\" в локальном минимуме\n",
    "- Следствие п.2 - Не может использоваться кросс-энтропия для многомерного случая, так как легко \"Застревает\" в локальных минимумах. Вместо этого для каждого класса строит отдельный классификатор (One-vs-Rest) "
   ]
  },
  {
   "cell_type": "code",
   "execution_count": 28,
   "metadata": {
    "ExecuteTime": {
     "end_time": "2020-11-21T10:50:11.569946Z",
     "start_time": "2020-11-21T10:50:07.932775Z"
    },
    "id": "8HNJpbTm-0Qb",
    "outputId": "06d72939-1632-49bf-9ea0-291dc1edef7a"
   },
   "outputs": [
    {
     "name": "stdout",
     "output_type": "stream",
     "text": [
      "Wall time: 3.63 s\n"
     ]
    },
    {
     "data": {
      "text/plain": [
       "GridSearchCV(cv=3, error_score=nan,\n",
       "             estimator=LogisticRegression(C=1.0, class_weight=None, dual=False,\n",
       "                                          fit_intercept=True,\n",
       "                                          intercept_scaling=1, l1_ratio=None,\n",
       "                                          max_iter=100, multi_class='ovr',\n",
       "                                          n_jobs=None, penalty='l2',\n",
       "                                          random_state=None, solver='liblinear',\n",
       "                                          tol=0.0001, verbose=0,\n",
       "                                          warm_start=False),\n",
       "             iid='deprecated', n_jobs=-1,\n",
       "             param_grid={'C': array([0.01, 0.12, 0.23, 0.34, 0.45, 0.56, 0.67, 0.78, 0.89, 1.  ]),\n",
       "                         'penalty': ['l1', 'l2']},\n",
       "             pre_dispatch='2*n_jobs', refit=True, return_train_score=False,\n",
       "             scoring='accuracy', verbose=0)"
      ]
     },
     "execution_count": 28,
     "metadata": {},
     "output_type": "execute_result"
    }
   ],
   "source": [
    "%%time\n",
    "len_c = 10\n",
    "param_grid={\n",
    "    'C': np.linspace(0.01, 1, len_c), \n",
    "    'penalty': ['l1', 'l2']\n",
    "    }\n",
    "\n",
    "gs=GridSearchCV(lr,param_grid=param_grid, cv=3,\n",
    "                n_jobs=-1, scoring='accuracy') \n",
    "gs.fit(x_train, y_train)"
   ]
  },
  {
   "cell_type": "code",
   "execution_count": 29,
   "metadata": {
    "ExecuteTime": {
     "end_time": "2020-11-21T10:50:15.540738Z",
     "start_time": "2020-11-21T10:50:15.534241Z"
    },
    "id": "szxUSRlA-0Qc",
    "outputId": "9806b488-12b6-4af4-e7e5-47539f0d13ac"
   },
   "outputs": [
    {
     "data": {
      "text/plain": [
       "0.9638888888888889"
      ]
     },
     "execution_count": 29,
     "metadata": {},
     "output_type": "execute_result"
    }
   ],
   "source": [
    "accuracy_score(gs.predict(x_test), y_test)"
   ]
  },
  {
   "cell_type": "code",
   "execution_count": 33,
   "metadata": {
    "ExecuteTime": {
     "end_time": "2020-11-21T10:52:40.885702Z",
     "start_time": "2020-11-21T10:52:40.879030Z"
    },
    "scrolled": false
   },
   "outputs": [
    {
     "data": {
      "text/plain": [
       "{'cv': 3,\n",
       " 'error_score': nan,\n",
       " 'estimator__C': 1.0,\n",
       " 'estimator__class_weight': None,\n",
       " 'estimator__dual': False,\n",
       " 'estimator__fit_intercept': True,\n",
       " 'estimator__intercept_scaling': 1,\n",
       " 'estimator__l1_ratio': None,\n",
       " 'estimator__max_iter': 100,\n",
       " 'estimator__multi_class': 'ovr',\n",
       " 'estimator__n_jobs': None,\n",
       " 'estimator__penalty': 'l2',\n",
       " 'estimator__random_state': None,\n",
       " 'estimator__solver': 'liblinear',\n",
       " 'estimator__tol': 0.0001,\n",
       " 'estimator__verbose': 0,\n",
       " 'estimator__warm_start': False,\n",
       " 'estimator': LogisticRegression(C=1.0, class_weight=None, dual=False, fit_intercept=True,\n",
       "                    intercept_scaling=1, l1_ratio=None, max_iter=100,\n",
       "                    multi_class='ovr', n_jobs=None, penalty='l2',\n",
       "                    random_state=None, solver='liblinear', tol=0.0001, verbose=0,\n",
       "                    warm_start=False),\n",
       " 'iid': 'deprecated',\n",
       " 'n_jobs': -1,\n",
       " 'param_grid': {'C': array([0.01, 0.12, 0.23, 0.34, 0.45, 0.56, 0.67, 0.78, 0.89, 1.  ]),\n",
       "  'penalty': ['l1', 'l2']},\n",
       " 'pre_dispatch': '2*n_jobs',\n",
       " 'refit': True,\n",
       " 'return_train_score': False,\n",
       " 'scoring': 'accuracy',\n",
       " 'verbose': 0}"
      ]
     },
     "execution_count": 33,
     "metadata": {},
     "output_type": "execute_result"
    }
   ],
   "source": [
    "gs.get_params()"
   ]
  },
  {
   "cell_type": "code",
   "execution_count": 105,
   "metadata": {
    "ExecuteTime": {
     "end_time": "2020-11-21T11:05:55.996546Z",
     "start_time": "2020-11-21T11:05:55.990545Z"
    }
   },
   "outputs": [],
   "source": [
    "def print_cv_results(results, len_c, params, x_name, y_name):\n",
    "    for i, name in enumerate(params['param_grid'][y_name]):\n",
    "        plt.plot(params['param_grid'][x_name], results[i*len_c:len_c*(i+1)],\n",
    "                 label=name)\n",
    "        \n",
    "    plt.xlabel('C')\n",
    "    plt.ylabel('accuracy')\n",
    "    plt.legend()\n",
    "    plt.grid()\n",
    "    plt.show()"
   ]
  },
  {
   "cell_type": "code",
   "execution_count": 108,
   "metadata": {
    "ExecuteTime": {
     "end_time": "2020-11-21T11:06:06.706672Z",
     "start_time": "2020-11-21T11:06:06.578869Z"
    },
    "code_folding": [],
    "id": "CTZz6aRI-0Qd",
    "outputId": "cbeb2f7b-a914-4c0f-fa0a-d67d3ec6b6bd"
   },
   "outputs": [
    {
     "name": "stdout",
     "output_type": "stream",
     "text": [
      "l1\n",
      "l2\n"
     ]
    },
    {
     "data": {
      "image/png": "[encoded data removed]",
      "text/plain": [
       "<Figure size 432x288 with 1 Axes>"
      ]
     },
     "metadata": {
      "needs_background": "light"
     },
     "output_type": "display_data"
    }
   ],
   "source": [
    "print_cv_results(gs.cv_results_['mean_test_score'],\n",
    "                 len_c, gs.get_params(), 'C','penalty')"
   ]
  },
  {
   "cell_type": "markdown",
   "metadata": {
    "id": "iJNm97fO-0Qe"
   },
   "source": [
    "### Почему L1 штраф не применяется для градиентных методов? \n",
    "\n",
    "По сути, мы добавляем сумму модулей весов к функции потерь, но как Вы знаете, производная функции модуля при x = 0 не определена, поэтому, возникают сложности с градиентными методами. \n",
    "\n"
   ]
  },
  {
   "cell_type": "markdown",
   "metadata": {
    "id": "ne_h901Y-0Qe"
   },
   "source": [
    "## Stochatic Average Gradient (SAG)\n",
    "Объединение градиентного спуска и стохастического. \n",
    "При этом, он имеет низкую стоимость итерации свойственной SGD, но делает шаг градиента по отношению к аппроксимации полного градиента:\n",
    "\n",
    "\n",
    "__Недостатки:__\n",
    "- Нет L1\n",
    "- Непрактичен для больших выборок, так как имеет высокую вычислительную сложность"
   ]
  },
  {
   "cell_type": "markdown",
   "metadata": {
    "id": "n069iQlq-0Qf"
   },
   "source": [
    "## Stochatic Average Gradient Augmented (SAGA)\n",
    "\n",
    "SAGA является вариантом SAG, но который поддерживает опцию non-smooth penalty=l1 (т. е. регуляризацию L1).\n",
    "\n",
    "[Подробнее: ](https://www.di.ens.fr/~fbach/Defazio_NIPS2014.pdf)"
   ]
  },
  {
   "cell_type": "code",
   "execution_count": 109,
   "metadata": {
    "ExecuteTime": {
     "end_time": "2020-11-21T11:06:10.291444Z",
     "start_time": "2020-11-21T11:06:10.287445Z"
    },
    "id": "OmbVzwEU-0Qf"
   },
   "outputs": [],
   "source": [
    "lr_clf = LogisticRegression(solver='saga', multi_class='multinomial', max_iter=1500)"
   ]
  },
  {
   "cell_type": "code",
   "execution_count": 110,
   "metadata": {
    "ExecuteTime": {
     "end_time": "2020-11-21T11:07:26.923489Z",
     "start_time": "2020-11-21T11:06:10.887212Z"
    },
    "id": "I9_G1p48-0Qh",
    "outputId": "c7fa4008-be2b-4eea-f954-86a00b35e416"
   },
   "outputs": [
    {
     "name": "stdout",
     "output_type": "stream",
     "text": [
      "Wall time: 1min 16s\n"
     ]
    },
    {
     "data": {
      "text/plain": [
       "GridSearchCV(cv=3, error_score=nan,\n",
       "             estimator=LogisticRegression(C=1.0, class_weight=None, dual=False,\n",
       "                                          fit_intercept=True,\n",
       "                                          intercept_scaling=1, l1_ratio=None,\n",
       "                                          max_iter=1500,\n",
       "                                          multi_class='multinomial',\n",
       "                                          n_jobs=None, penalty='l2',\n",
       "                                          random_state=None, solver='saga',\n",
       "                                          tol=0.0001, verbose=0,\n",
       "                                          warm_start=False),\n",
       "             iid='deprecated', n_jobs=-1,\n",
       "             param_grid={'C': array([0.01, 0.12, 0.23, 0.34, 0.45, 0.56, 0.67, 0.78, 0.89, 1.  ]),\n",
       "                         'penalty': ['l1', 'l2']},\n",
       "             pre_dispatch='2*n_jobs', refit=True, return_train_score=False,\n",
       "             scoring='accuracy', verbose=0)"
      ]
     },
     "execution_count": 110,
     "metadata": {},
     "output_type": "execute_result"
    }
   ],
   "source": [
    "%%time\n",
    "gs=GridSearchCV(lr_clf,param_grid=param_grid, cv=3,\n",
    "                n_jobs=-1, scoring='accuracy') \n",
    "gs.fit(x_train, y_train)"
   ]
  },
  {
   "cell_type": "code",
   "execution_count": 111,
   "metadata": {
    "ExecuteTime": {
     "end_time": "2020-11-21T11:07:30.165704Z",
     "start_time": "2020-11-21T11:07:30.038540Z"
    },
    "id": "Aqqd7y9k-0Qi",
    "outputId": "d83f1c9d-6b46-4e4a-9fcb-60832088811a"
   },
   "outputs": [
    {
     "name": "stdout",
     "output_type": "stream",
     "text": [
      "l1\n",
      "l2\n"
     ]
    },
    {
     "data": {
      "image/png": "[encoded data removed]",
      "text/plain": [
       "<Figure size 432x288 with 1 Axes>"
      ]
     },
     "metadata": {
      "needs_background": "light"
     },
     "output_type": "display_data"
    }
   ],
   "source": [
    "print_cv_results(gs.cv_results_['mean_test_score'],\n",
    "                 len_c, gs.get_params(), 'C','penalty')"
   ]
  },
  {
   "cell_type": "code",
   "execution_count": 112,
   "metadata": {
    "ExecuteTime": {
     "end_time": "2020-11-21T11:07:32.583818Z",
     "start_time": "2020-11-21T11:07:32.566295Z"
    },
    "id": "h6nG-n0C-0Qk",
    "outputId": "37973aec-db37-4a8e-a865-87fa04c2f5a6"
   },
   "outputs": [
    {
     "data": {
      "text/plain": [
       "0.975"
      ]
     },
     "execution_count": 112,
     "metadata": {},
     "output_type": "execute_result"
    }
   ],
   "source": [
    "accuracy_score(gs.predict(x_test), y_test)"
   ]
  },
  {
   "cell_type": "markdown",
   "metadata": {
    "id": "9Y4MI83p-0Ql"
   },
   "source": [
    "# Что почитать: \n",
    "- [Regularized Logistic Regression is Strictly Convex](http://www.qwone.com/~jason/writing/convexLR.pdf)\n",
    "- [SAGA: A Fast Incremental Gradient Method With Support for Non-Strongly Convex Composite Objectives\n",
    "](https://www.di.ens.fr/~fbach/Defazio_NIPS2014.pdf)\n",
    "- [Лекции Евгения Соколова](https://github.com/esokolov/ml-course-hse/tree/master/2018-fall/lecture-notes)"
   ]
  }
 ],
 "metadata": {
  "colab": {
   "name": "Seminar 2 liner models_solved.ipynb",
   "provenance": [
    {
     "file_id": "12QEdOsFgrlJO6zJKg4KrXapZ-ZlkoOVv",
     "timestamp": 1604694668503
    }
   ],
   "toc_visible": true
  },
  "hide_input": false,
  "kernelspec": {
   "display_name": "Python 3",
   "language": "python",
   "name": "python3"
  },
  "language_info": {
   "codemirror_mode": {
    "name": "ipython",
    "version": 3
   },
   "file_extension": ".py",
   "mimetype": "text/x-python",
   "name": "python",
   "nbconvert_exporter": "python",
   "pygments_lexer": "ipython3",
   "version": "3.7.7"
  },
  "toc": {
   "base_numbering": 1,
   "nav_menu": {},
   "number_sections": true,
   "sideBar": true,
   "skip_h1_title": false,
   "title_cell": "Table of Contents",
   "title_sidebar": "Contents",
   "toc_cell": false,
   "toc_position": {},
   "toc_section_display": true,
   "toc_window_display": false
  },
  "varInspector": {
   "cols": {
    "lenName": 16,
    "lenType": 16,
    "lenVar": 40
   },
   "kernels_config": {
    "python": {
     "delete_cmd_postfix": "",
     "delete_cmd_prefix": "del ",
     "library": "var_list.py",
     "varRefreshCmd": "print(var_dic_list())"
    },
    "r": {
     "delete_cmd_postfix": ") ",
     "delete_cmd_prefix": "rm(",
     "library": "var_list.r",
     "varRefreshCmd": "cat(var_dic_list()) "
    }
   },
   "types_to_exclude": [
    "module",
    "function",
    "builtin_function_or_method",
    "instance",
    "_Feature"
   ],
   "window_display": false
  }
 },
 "nbformat": 4,
 "nbformat_minor": 1
}
