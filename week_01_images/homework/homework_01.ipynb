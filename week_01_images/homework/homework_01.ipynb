{
 "cells": [
  {
   "cell_type": "markdown",
   "metadata": {},
   "source": [
    "# Домашняя работа №1"
   ]
  },
  {
   "cell_type": "code",
   "execution_count": null,
   "metadata": {
    "ExecuteTime": {
     "end_time": "2021-02-08T16:52:14.684026Z",
     "start_time": "2021-02-08T16:52:14.213719Z"
    }
   },
   "outputs": [],
   "source": [
    "import cv2\n",
    "import numpy as np\n",
    "\n",
    "import matplotlib.pyplot as plt\n",
    "%matplotlib inline"
   ]
  },
  {
   "cell_type": "code",
   "execution_count": null,
   "metadata": {
    "ExecuteTime": {
     "end_time": "2021-02-08T16:52:14.718560Z",
     "start_time": "2021-02-08T16:52:14.708595Z"
    }
   },
   "outputs": [],
   "source": [
    "def plot_one_image(image: np.ndarray) -> None:\n",
    "    \"\"\"\n",
    "    Отобразить изображение с помощью matplotlib.\n",
    "    Вспомогательная функция.\n",
    "    \n",
    "    :param image: изображение для отображения\n",
    "    :return: None\n",
    "    \"\"\"\n",
    "    fig, axs = plt.subplots(1, 1, figsize=(8, 7))\n",
    "    \n",
    "    axs.imshow(image)\n",
    "    axs.axis('off')\n",
    "    plt.plot()"
   ]
  },
  {
   "cell_type": "markdown",
   "metadata": {},
   "source": [
    "# Задача №1 - Лабиринт\n",
    "\n",
    "Реализуйте алгоритм поиска выхода из лабиринта по растровому изобажению.\n",
    "Вам нужно написать код, который будет находить путь (координаты пикселей) от заданного входа сверху до выхода снизу.\n",
    "\n",
    "Отрисуйте получившийся маршрут на карте с помощью функции ```plot_maze_path(img, coords)``` или воспользуйтесь вам известным графическим инструментом.\n",
    "\n",
    "__Input:__\n",
    "\n",
    "Изображение лабиринта в кодировке $RGB$.\n",
    "\n",
    "Все карты лежат на [яндекс-диске](https://yadi.sk/d/qEWVZk2picDdZw)\n",
    "\n",
    "__Ouput:__\n",
    "\n",
    "Массив координат пути через лабиринт в виде ```(np.array(x), np.array(y))```. \n",
    "\n",
    "Оценивается __каждое__ успешное решение лабиринта.\n",
    "Пример решенной задачи.\n",
    "\n",
    "<img src=\"https://b.radikal.ru/b22/1906/56/df991f2221a7.png\" width=\"300\">"
   ]
  },
  {
   "cell_type": "code",
   "execution_count": null,
   "metadata": {
    "ExecuteTime": {
     "end_time": "2020-09-09T16:47:25.180707Z",
     "start_time": "2020-09-09T16:47:25.082854Z"
    }
   },
   "outputs": [],
   "source": [
    "from task_1 import find_way_from_maze"
   ]
  },
  {
   "cell_type": "code",
   "execution_count": null,
   "metadata": {
    "ExecuteTime": {
     "end_time": "2020-09-09T16:24:14.663216Z",
     "start_time": "2020-09-09T16:24:14.658672Z"
    }
   },
   "outputs": [],
   "source": [
    "def plot_maze_path(image: np.ndarray, coords: tuple) -> np.ndarray:\n",
    "    \"\"\"\n",
    "    Нарисовать путь через лабиринт на изображении. \n",
    "    Вспомогательная функция.\n",
    "     \n",
    "    :param image: изображение лабиринта\n",
    "    :param coords: координаты пути через лабиринт типа (x, y) где x и y - массивы координат точек\n",
    "    :return img_wpath: исходное изображение с отрисованными координатами \n",
    "    \"\"\"\n",
    "    if image.ndim != 3:\n",
    "        img = cv2.cvtColor(img, cv2.COLOR_GRAY2BGR)\n",
    "        \n",
    "    img_wpath = image.copy()\n",
    "    if coords:\n",
    "        x, y = coords\n",
    "        img_wpath[x, y, :] = [0, 0, 255]\n",
    "\n",
    "    return img_wpath"
   ]
  },
  {
   "cell_type": "markdown",
   "metadata": {},
   "source": [
    "Загрузим тестовое изображение и отобразим его."
   ]
  },
  {
   "cell_type": "code",
   "execution_count": null,
   "metadata": {
    "ExecuteTime": {
     "end_time": "2020-09-09T16:28:36.823429Z",
     "start_time": "2020-09-09T16:28:36.747035Z"
    }
   },
   "outputs": [],
   "source": [
    "test_image = cv2.imread('task_1/20 by 20 orthogonal maze.png')  # загрузить тестовую картинку\n",
    "\n",
    "plot_one_image(test_image)"
   ]
  },
  {
   "cell_type": "markdown",
   "metadata": {},
   "source": [
    "Теперь ваша задача реализовать функцию ```plot_maze_path``` в ```task_1.py``` для того, чтобы найти координаты пути через лабиринт."
   ]
  },
  {
   "cell_type": "code",
   "execution_count": null,
   "metadata": {
    "ExecuteTime": {
     "end_time": "2020-09-09T16:28:37.723416Z",
     "start_time": "2020-09-09T16:28:37.650130Z"
    }
   },
   "outputs": [],
   "source": [
    "way_coords = find_way_from_maze(test_image)  # вычислить координаты пути через лабиринт\n",
    "\n",
    "image_with_way = plot_maze_path(test_image, way_coords)\n",
    "\n",
    "plot_one_image(image_with_way)"
   ]
  },
  {
   "cell_type": "markdown",
   "metadata": {
    "ExecuteTime": {
     "end_time": "2020-09-08T19:12:44.349156Z",
     "start_time": "2020-09-08T19:12:44.326172Z"
    }
   },
   "source": [
    "# Задача №2 - Пробки в городе\n",
    "\n",
    "Требуется написать программу, которая на вход принимает картинку, на которой схематически изображена машинка на дороге с $N$ полосами и препятствия на полосах. Соответствующие объекты обозначены цветами, которые сохраняются на всех изображениях. \n",
    "\n",
    "Результатом работы программы является номер полосы, на которую нужно перестроиться или сообщение о том, что перестраиваться не нужно.\n",
    "\n",
    "**Примечание: номер дороги считается слева направо, отсчет начинается с нуля.**\n",
    "\n",
    "Примеры изображений:\n",
    "<table><tr>\n",
    "    <td> <img src=\"https://i.ibb.co/8z84sJG/image_00.jpg\" alt=\"Drawing\" style=\"width: 200px;\"/> </td>\n",
    "    <td> <img src=\"https://i.ibb.co/Z6m4XFz/image_01.jpg\" alt=\"Drawing\" style=\"width: 200px;\"/> </td>\n",
    "</tr></table>"
   ]
  },
  {
   "cell_type": "code",
   "execution_count": null,
   "metadata": {
    "ExecuteTime": {
     "end_time": "2020-09-09T16:50:26.064083Z",
     "start_time": "2020-09-09T16:50:26.059097Z"
    }
   },
   "outputs": [],
   "source": [
    "from task_2 import find_road_number"
   ]
  },
  {
   "cell_type": "code",
   "execution_count": null,
   "metadata": {
    "ExecuteTime": {
     "end_time": "2020-09-09T16:50:48.843353Z",
     "start_time": "2020-09-09T16:50:48.635270Z"
    }
   },
   "outputs": [],
   "source": [
    "test_image = cv2.imread('task_2/image_00.jpg')\n",
    "test_image = cv2.cvtColor(test_image, cv2.COLOR_BGR2RGB)\n",
    "plot_one_image(test_image)"
   ]
  },
  {
   "cell_type": "code",
   "execution_count": null,
   "metadata": {
    "ExecuteTime": {
     "end_time": "2020-09-09T16:50:49.424361Z",
     "start_time": "2020-09-09T16:50:49.420353Z"
    }
   },
   "outputs": [],
   "source": [
    "road_number = find_road_number(test_image)\n",
    "\n",
    "print(f'Нужно перестроиться на дорогу номер {road_number}')"
   ]
  },
  {
   "cell_type": "markdown",
   "metadata": {},
   "source": [
    "# Задача №3 - Аффинные преобразования"
   ]
  },
  {
   "cell_type": "markdown",
   "metadata": {},
   "source": [
    "## Задача №3.1 - Поверни изображение\n",
    "\n",
    "Реализуйте функцию, которая поворачивает изображение вокруг заданной точки на заданный угол ($0^\\circ-360^\\circ$) и преобразует размер изображения, чтобы оно не обрезалось после поворота."
   ]
  },
  {
   "cell_type": "code",
   "execution_count": null,
   "metadata": {
    "ExecuteTime": {
     "end_time": "2021-02-08T16:52:18.124094Z",
     "start_time": "2021-02-08T16:52:18.119099Z"
    }
   },
   "outputs": [],
   "source": [
    "from task_3 import rotate"
   ]
  },
  {
   "cell_type": "code",
   "execution_count": null,
   "metadata": {
    "ExecuteTime": {
     "end_time": "2021-02-08T16:52:18.821482Z",
     "start_time": "2021-02-08T16:52:18.282090Z"
    }
   },
   "outputs": [],
   "source": [
    "test_image = cv2.imread('task_3/lk.jpg')\n",
    "test_image = cv2.cvtColor(test_image, cv2.COLOR_BGR2RGB)\n",
    "plot_one_image(test_image)"
   ]
  },
  {
   "cell_type": "code",
   "execution_count": null,
   "metadata": {
    "ExecuteTime": {
     "end_time": "2021-02-08T16:52:19.573062Z",
     "start_time": "2021-02-08T16:52:19.112907Z"
    }
   },
   "outputs": [],
   "source": [
    "test_point = (200, 200)\n",
    "test_angle = 15\n",
    "\n",
    "transformed_image = rotate(test_image, test_point, test_angle)\n",
    "plot_one_image(transformed_image)"
   ]
  },
  {
   "cell_type": "markdown",
   "metadata": {},
   "source": [
    "Проверьте как это должно было получиться"
   ]
  },
  {
   "cell_type": "code",
   "execution_count": null,
   "metadata": {
    "ExecuteTime": {
     "end_time": "2021-02-08T16:52:20.538138Z",
     "start_time": "2021-02-08T16:52:20.069746Z"
    }
   },
   "outputs": [],
   "source": [
    "result_image = cv2.imread('task_3/lk_rotate.jpg')\n",
    "result_image = cv2.cvtColor(result_image, cv2.COLOR_BGR2RGB)\n",
    "plot_one_image(result_image)"
   ]
  },
  {
   "cell_type": "markdown",
   "metadata": {},
   "source": [
    "## Задача №3.2 - Афинные преобразования\n",
    "\n",
    "Реализуйте функцию, которая применяет афинное преобразование между заданными точками на исходном изображении и преобразует размер получившегося изображения, чтобы оно не обрезалось."
   ]
  },
  {
   "cell_type": "code",
   "execution_count": null,
   "metadata": {
    "ExecuteTime": {
     "end_time": "2021-02-08T16:53:17.784330Z",
     "start_time": "2021-02-08T16:53:17.781201Z"
    }
   },
   "outputs": [],
   "source": [
    "from task_3 import apply_warpAffine"
   ]
  },
  {
   "cell_type": "code",
   "execution_count": null,
   "metadata": {
    "ExecuteTime": {
     "end_time": "2021-02-08T16:53:18.593003Z",
     "start_time": "2021-02-08T16:53:18.169795Z"
    }
   },
   "outputs": [],
   "source": [
    "test_image = cv2.imread('task_3/lk.jpg')\n",
    "test_image = cv2.cvtColor(test_image, cv2.COLOR_BGR2RGB)\n",
    "plot_one_image(test_image)"
   ]
  },
  {
   "cell_type": "code",
   "execution_count": null,
   "metadata": {
    "ExecuteTime": {
     "end_time": "2021-02-08T16:53:19.692893Z",
     "start_time": "2021-02-08T16:53:19.308107Z"
    }
   },
   "outputs": [],
   "source": [
    "test_point_1 = np.float32([[50, 50], [400, 50], [50, 200]])\n",
    "test_point_2 = np.float32([[100, 100], [200, 20], [100, 250]]) \n",
    "\n",
    "transformed_image = apply_warpAffine(test_image, test_point_1, test_point_2)\n",
    "plot_one_image(transformed_image)"
   ]
  },
  {
   "cell_type": "markdown",
   "metadata": {},
   "source": [
    "Проверьте как это должно было получиться"
   ]
  },
  {
   "cell_type": "code",
   "execution_count": null,
   "metadata": {
    "ExecuteTime": {
     "end_time": "2021-02-08T16:53:21.405593Z",
     "start_time": "2021-02-08T16:53:21.238335Z"
    }
   },
   "outputs": [],
   "source": [
    "result_image = cv2.imread('task_3/lk_affine.jpg')\n",
    "result_image = cv2.cvtColor(result_image, cv2.COLOR_BGR2RGB)\n",
    "plot_one_image(result_image)"
   ]
  },
  {
   "cell_type": "code",
   "execution_count": null,
   "metadata": {},
   "outputs": [],
   "source": []
  }
 ],
 "metadata": {
  "hide_input": false,
  "kernelspec": {
   "display_name": "Python 3 (ipykernel)",
   "language": "python",
   "name": "python3"
  },
  "language_info": {
   "codemirror_mode": {
    "name": "ipython",
    "version": 3
   },
   "file_extension": ".py",
   "mimetype": "text/x-python",
   "name": "python",
   "nbconvert_exporter": "python",
   "pygments_lexer": "ipython3",
   "version": "3.7.11"
  },
  "toc": {
   "base_numbering": 1,
   "nav_menu": {},
   "number_sections": true,
   "sideBar": true,
   "skip_h1_title": false,
   "title_cell": "Table of Contents",
   "title_sidebar": "Contents",
   "toc_cell": false,
   "toc_position": {},
   "toc_section_display": true,
   "toc_window_display": true
  },
  "varInspector": {
   "cols": {
    "lenName": 16,
    "lenType": 16,
    "lenVar": 40
   },
   "kernels_config": {
    "python": {
     "delete_cmd_postfix": "",
     "delete_cmd_prefix": "del ",
     "library": "var_list.py",
     "varRefreshCmd": "print(var_dic_list())"
    },
    "r": {
     "delete_cmd_postfix": ") ",
     "delete_cmd_prefix": "rm(",
     "library": "var_list.r",
     "varRefreshCmd": "cat(var_dic_list()) "
    }
   },
   "types_to_exclude": [
    "module",
    "function",
    "builtin_function_or_method",
    "instance",
    "_Feature"
   ],
   "window_display": false
  }
 },
 "nbformat": 4,
 "nbformat_minor": 4
}
